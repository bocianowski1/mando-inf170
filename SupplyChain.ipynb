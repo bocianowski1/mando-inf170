{
 "cells": [
  {
   "cell_type": "markdown",
   "metadata": {},
   "source": [
    "# Mandatory Assignment\n",
    "**Torger Bocianowski**\n",
    "\n",
    "## Task 1"
   ]
  },
  {
   "cell_type": "markdown",
   "metadata": {},
   "source": [
    "### Sets\n",
    "\n",
    "$S=$ suppliers\n",
    "\n",
    "$P=$ plants"
   ]
  },
  {
   "cell_type": "markdown",
   "metadata": {},
   "source": [
    "### Parameters\n",
    "\n",
    "- Distance from supplier to plant (km)\n",
    "- Cost per unit on a road from supplier to plant\n",
    "- Truck cost \n",
    "- Truck capacity\n",
    "- Plant cost\n",
    "- Plant capacity\n",
    "- Yield per unit at a plant\n",
    "- Supply of biomass in tons for a supplier"
   ]
  },
  {
   "cell_type": "markdown",
   "metadata": {},
   "source": [
    "### Decision Variables\n",
    "\n",
    "$b_p\\in\\{0,1\\}=$ binary variable, whether a plant at location $p$ should be built or not.\n",
    "\n",
    "$x_{sp}=$ tons of biomass transported from supplier $s$ to plant $p$.\n",
    "\n",
    "$t\\in\\mathbb{Z}=$ integer variable, the number of trucks used."
   ]
  },
  {
   "cell_type": "markdown",
   "metadata": {},
   "source": [
    "### Formulating the Objective Function\n",
    "\n",
    "$C_p=$ cost of opening a plant.\n",
    "\n",
    "$d_{sp}=$ distance driven (km) from supplier $s$ to plant $p$.\n",
    "\n",
    "$y_p=$ yield per unit at a plant $p$.\n",
    "\n",
    "$L, U=$ loading / unloading cost\n",
    "\n",
    "<br></br>\n",
    "\n",
    "**Cost components**\n",
    "\n",
    "$\\sum_p C_p\\cdot b_p$ whether or not we decide to build a plant $p$ and multiplying it by the opening cost of $p$.\n",
    "\n",
    "$\\sum_{sp}u_{sp}x_{sp}d_{sp}$ the unit cost times the amount biomass transported times the distance driven.\n",
    "\n",
    "$(L+U)t$, multiplying the number of trucks used by the constant load / unload cost.\n",
    "\n",
    "<br></br>\n",
    "\n",
    "**Objective function**\n",
    "\n",
    "Minimize Cost: $\\space\\sum_p C_p\\cdot b_p+\\sum_{sp}u_{sp}x_{sp}d_{sp}+(L+U)t$"
   ]
  },
  {
   "cell_type": "markdown",
   "metadata": {},
   "source": [
    "### Constraints\n",
    "\n",
    "- $\\sum_{sp}x_{sp}y_p\\geq500\\space000\\space000$\n",
    "\n",
    "- $\\sum_s x_{sp}y_p\\leq cap_p\\quad\\forall p\\in P$\n",
    "\n",
    "- $\\frac{x_{sp}}{cap_t}\\leq t\\quad\\forall s\\in S\\quad\\forall p\\in P$\n",
    "\n",
    "- $x_{sp} >= 0\\quad\\forall s\\in S\\quad\\forall p\\in P$"
   ]
  },
  {
   "cell_type": "code",
   "execution_count": 1,
   "metadata": {},
   "outputs": [],
   "source": [
    "import pandas as pd\n",
    "import gurobipy as gp\n",
    "from gurobipy import GRB"
   ]
  },
  {
   "cell_type": "code",
   "execution_count": 2,
   "metadata": {},
   "outputs": [],
   "source": [
    "# Dataframes\n",
    "suppliers_df = pd.read_csv(\"data/suppliers.csv\")\n",
    "plants_df = pd.read_csv(\"data/plants.csv\")\n",
    "roads_df = pd.read_csv(\"data/roads_s_p.csv\")\n",
    "\n",
    "# Sets\n",
    "suppliers = suppliers_df.set_index(\"supplier\")\n",
    "suppliers = suppliers.to_dict(orient=\"index\")\n",
    "\n",
    "plants = plants_df.set_index(\"plant\")\n",
    "plants = plants.to_dict(orient=\"index\")"
   ]
  },
  {
   "cell_type": "markdown",
   "metadata": {},
   "source": [
    "### Defining the Model"
   ]
  },
  {
   "cell_type": "code",
   "execution_count": 3,
   "metadata": {},
   "outputs": [
    {
     "name": "stdout",
     "output_type": "stream",
     "text": [
      "Set parameter Username\n",
      "Academic license - for non-commercial use only - expires 2024-10-24\n"
     ]
    }
   ],
   "source": [
    "m = gp.Model(\"SupplyChain\")\n",
    "gp.setParam(\"OutputFlag\", 0)"
   ]
  },
  {
   "cell_type": "markdown",
   "metadata": {},
   "source": [
    "### Parameters"
   ]
  },
  {
   "cell_type": "code",
   "execution_count": 4,
   "metadata": {},
   "outputs": [],
   "source": [
    "def param_from(df: pd.DataFrame, param: str) -> dict:\n",
    "    df = df[[\"supplier\", \"plant\", param]]\n",
    "    df = df.set_index([\"supplier\", \"plant\"])\n",
    "    df = df.to_dict(orient=\"index\")\n",
    "    return {(s, p): df[s, p][param] for s in suppliers for p in plants}\n",
    "\n",
    "dist_s_p = param_from(roads_df, \"dist_s_p\")\n",
    "unit_cost_s_p = param_from(roads_df, \"cost_per_unit_s_p\")\n",
    "truck_cost_s_p = param_from(roads_df, \"truck_cost_s_p\")\n",
    "truck_cap_s_p = param_from(roads_df, \"truck_cap_s_p\")"
   ]
  },
  {
   "cell_type": "markdown",
   "metadata": {},
   "source": [
    "### Decision Variables"
   ]
  },
  {
   "cell_type": "code",
   "execution_count": 5,
   "metadata": {},
   "outputs": [],
   "source": [
    "build = m.addVars(plants, vtype=GRB.BINARY, name=\"build\")\n",
    "trucks = m.addVar(vtype=GRB.INTEGER, name=\"trucks\")\n",
    "biomass = m.addVars(suppliers, plants, name=\"biomass\")"
   ]
  },
  {
   "cell_type": "markdown",
   "metadata": {},
   "source": [
    "### Objective Function"
   ]
  },
  {
   "cell_type": "code",
   "execution_count": 6,
   "metadata": {},
   "outputs": [],
   "source": [
    "load, unload = 5000, 5000\n",
    "\n",
    "m.setObjective(\n",
    "    gp.quicksum(\n",
    "        plants[p][\"plant_cost\"] * build[p]\n",
    "        for p in plants\n",
    "    )\n",
    "    + gp.quicksum(\n",
    "        unit_cost_s_p[s, p] * biomass[s, p] * dist_s_p[s, p]\n",
    "        for s in suppliers\n",
    "        for p in plants\n",
    "    )\n",
    "    + (load + unload) * trucks, \n",
    "    GRB.MINIMIZE,\n",
    ")"
   ]
  },
  {
   "cell_type": "markdown",
   "metadata": {},
   "source": [
    "### Constraints"
   ]
  },
  {
   "cell_type": "code",
   "execution_count": 7,
   "metadata": {},
   "outputs": [],
   "source": [
    "PRODUCTION = 500_000_000\n",
    "\n",
    "m.addConstrs(\n",
    "    (\n",
    "        gp.quicksum(biomass[s, p] for p in plants) <= suppliers[s][\"supply\"]\n",
    "        for s in suppliers\n",
    "    ),\n",
    "    name=\"supply\",\n",
    ")\n",
    "\n",
    "m.addConstrs(\n",
    "    (\n",
    "        gp.quicksum(biomass[s, p] for s in suppliers) <= plants[p][\"plant_cap\"] * build[p]\n",
    "        for p in plants\n",
    "    ),\n",
    "    name=\"capacity\",\n",
    ")\n",
    "\n",
    "m.addConstr(\n",
    "    (\n",
    "        gp.quicksum(biomass[s, p] * plants[p][\"yield_per_unit\"] \n",
    "                    for s in suppliers \n",
    "                    for p in plants\n",
    "                    ) >= PRODUCTION\n",
    "    ),\n",
    "    name=\"production\",\n",
    ")\n",
    "\n",
    "m.addConstrs(\n",
    "    (\n",
    "        biomass[s, p] / truck_cap_s_p[s, p] <= trucks\n",
    "        for s in suppliers\n",
    "        for p in plants\n",
    "    ),\n",
    "    name=\"trucks\",\n",
    ")\n",
    "\n",
    "m.addConstrs(\n",
    "    (\n",
    "        biomass[s, p] >= 0\n",
    "        for s in suppliers\n",
    "        for p in plants\n",
    "    ),\n",
    "    name=\"non_negative_biomass\",\n",
    ")\n",
    "\n",
    "m.setParam(\"OutputFlag\", 0)"
   ]
  },
  {
   "cell_type": "markdown",
   "metadata": {},
   "source": [
    "### Solve the Model"
   ]
  },
  {
   "cell_type": "code",
   "execution_count": 10,
   "metadata": {},
   "outputs": [
    {
     "name": "stdout",
     "output_type": "stream",
     "text": [
      "Gurobi Optimizer version 10.0.3 build v10.0.3rc0 (mac64[arm])\n",
      "\n",
      "CPU model: Apple M1\n",
      "Thread count: 8 physical cores, 8 logical processors, using up to 8 threads\n",
      "\n",
      "Optimize a model with 85258 rows, 42586 columns and 254675 nonzeros\n",
      "Model fingerprint: 0x07a443fd\n",
      "Variable types: 42418 continuous, 168 integer (167 binary)\n",
      "Coefficient statistics:\n",
      "  Matrix range     [2e-03, 2e+08]\n",
      "  Objective range  [1e+02, 1e+08]\n",
      "  Bounds range     [1e+00, 1e+00]\n",
      "  RHS range        [8e-01, 5e+08]\n",
      "Warning: Model contains large matrix coefficients\n",
      "         Consider reformulating model or setting NumericFocus parameter\n",
      "         to avoid numerical issues.\n",
      "Presolved: 41832 rows, 41584 columns, 207247 nonzeros\n",
      "\n",
      "Continuing optimization...\n",
      "\n",
      "\n",
      "Cutting planes:\n",
      "  MIR: 1\n",
      "\n",
      "Explored 1 nodes (2098 simplex iterations) in 0.03 seconds (0.03 work units)\n",
      "Thread count was 8 (of 8 available processors)\n",
      "\n",
      "Solution count 5: 8.45859e+09 8.46012e+09 8.48423e+09 ... 9.0684e+09\n",
      "\n",
      "Optimal solution found (tolerance 1.00e-04)\n",
      "Best objective 8.458593644092e+09, best bound 8.458593644092e+09, gap 0.0000%\n"
     ]
    }
   ],
   "source": [
    "m.setParam(\"OutputFlag\", 1)\n",
    "m.optimize()"
   ]
  },
  {
   "cell_type": "code",
   "execution_count": 11,
   "metadata": {},
   "outputs": [
    {
     "name": "stdout",
     "output_type": "stream",
     "text": [
      "RESULTS\n",
      "(11) Locations: [541, 9063, 9071, 9102, 9107, 9155, 9178, 9183, 9203, 10058, 10066]\n",
      "Total biomass: 2,155,172 Mg\n",
      "Trucks needed: 91.0\n",
      "Total cost: $8,458,593,644.09\n"
     ]
    }
   ],
   "source": [
    "locations = [p for p in plants if build[p].x == 1]\n",
    "total_biomass = sum(biomass[s, p].x for s in suppliers for p in plants)\n",
    "formatted_total_biomass = f\"{total_biomass:,.0f}\"\n",
    "formatted_total_cost = f\"${m.objVal:,.2f}\"\n",
    "\n",
    "print(\"RESULTS\")\n",
    "print(f\"({len(locations)}) Locations: {locations}\")\n",
    "print(f\"Total biomass: {formatted_total_biomass} Mg\")\n",
    "print(f\"Trucks needed: {trucks.x}\")\n",
    "print(f\"Total cost: {formatted_total_cost}\")\n"
   ]
  },
  {
   "cell_type": "markdown",
   "metadata": {},
   "source": [
    "### Interpreting the Results\n",
    "\n",
    "As shown above, \n",
    "- there are **11 locations** at which we want to **build plants**, \n",
    "- we need **91 trucks** and \n",
    "- the **total cost** is almost **8.5 billion** dollars"
   ]
  },
  {
   "cell_type": "markdown",
   "metadata": {},
   "source": [
    "## Task 2"
   ]
  },
  {
   "cell_type": "markdown",
   "metadata": {},
   "source": [
    "### Sets\n",
    "$S=$ suppliers\n",
    "\n",
    "$P=$ plants\n",
    "\n",
    "$H=$ hubs"
   ]
  },
  {
   "cell_type": "markdown",
   "metadata": {},
   "source": [
    "### Parameters\n",
    "\n",
    "- Hub cost\n",
    "- Hub capacity\n",
    "- Truck cost from supplier to hub\n",
    "- Truck capacity from supplier to hub\n",
    "- Train cost from hub to plant\n",
    "- Train capacity from hub to plant\n",
    "- Distance from supplier to hub\n",
    "- Distance from hub to supplier\n",
    "- Cost per unit on a road from supplier to hub\n",
    "- Cost per unit on a road from hub to plant\n"
   ]
  },
  {
   "cell_type": "markdown",
   "metadata": {},
   "source": [
    "### Decision Variables\n",
    "\n",
    "$b_p\\in\\{0,1\\}=$ binary variable, whether a plant at location $p$ should be built or not.\n",
    "\n",
    "$b_h\\in\\{0,1\\}=$ binary variable, whether a hub at location $h$ should be built or not.\n",
    "\n",
    "$x_{sh}=$ tons of biomass transported from supplier $s$ to hub $h$.\n",
    "\n",
    "$x_{hp}=$ tons of biomass transported from hub $h$ to plant $p$.\n",
    "\n",
    "$t\\in\\mathbb{Z}=$ integer variable, the number of trucks to be used.\n",
    "\n",
    "$r\\in\\mathbb{Z}=$ integer variable, the number of trains to be used."
   ]
  },
  {
   "cell_type": "markdown",
   "metadata": {},
   "source": [
    "### Formulating the Objective Function\n",
    "\n",
    "$O_p=$ constant opening cost of a plant $p$.\n",
    "\n",
    "$O_h=$ constant opening cost of a hub $h$.\n",
    "\n",
    "$d_{sh}=$ distance driven (km) from supplier $s$ to hub $h$ by road.\n",
    "\n",
    "$d_{hp}=$ distance driven (km) from hub $h$ to plant $p$ by train.\n",
    "\n",
    "$L_t, U_t=$ truck loading / unloading cost\n",
    "\n",
    "$L_r, U_r=$ train loading / unloading cost\n",
    "\n",
    "<br></br>\n",
    "\n",
    "**Cost components**\n",
    "\n",
    "$\\sum_p O\\cdot b_p$ whether or not we decide to build a plant and multiplying it by the opening cost.\n",
    "\n",
    "$\\sum_{sp}c_{sp}x_{sp}d_{sp}$ the transportation cost times the amount transported times the distance driven.\n",
    "\n",
    "$(L+U)t$, multiplying the number of trucks used by the constant load / unload cost.\n",
    "\n",
    "<br></br>\n",
    "\n",
    "**Objective function**\n",
    "\n",
    "Minimize Cost: $\\space\n",
    "\\sum_p O_p\\cdot b_p+\\sum_h O_h\\cdot b_h+\n",
    "\\sum_{sh}c_{sh}x_{sh}d_{sh}+\\sum_{hp}c_{hp}x_{hp}d_{hp}\n",
    "(L_t+U_t)t+(L_h+U_h)h$"
   ]
  },
  {
   "cell_type": "markdown",
   "metadata": {},
   "source": [
    "### Constraints\n",
    "\n",
    "<p style=\"color: red;\">Flow balance?</p>"
   ]
  },
  {
   "cell_type": "code",
   "execution_count": 12,
   "metadata": {},
   "outputs": [],
   "source": [
    "# Dataframes\n",
    "hubs_df = pd.read_csv(\"data/hubs.csv\")\n",
    "railroads_df = pd.read_csv(\"data/railroads_h_p.csv\")\n",
    "roads_df = pd.read_csv(\"data/roads_s_h.csv\")\n",
    "\n",
    "# Sets\n",
    "hubs = hubs_df.set_index(\"hub\")\n",
    "hubs = hubs.to_dict(orient=\"index\")"
   ]
  },
  {
   "cell_type": "markdown",
   "metadata": {},
   "source": [
    "### Defining the Model"
   ]
  },
  {
   "cell_type": "code",
   "execution_count": 13,
   "metadata": {},
   "outputs": [],
   "source": [
    "m = gp.Model(\"SupplyChain2\")\n",
    "gp.setParam(\"OutputFlag\", 0)"
   ]
  },
  {
   "cell_type": "markdown",
   "metadata": {},
   "source": [
    "### Parameters"
   ]
  },
  {
   "cell_type": "code",
   "execution_count": 14,
   "metadata": {},
   "outputs": [],
   "source": [
    "# Helper functions\n",
    "def sh_param(df: pd.DataFrame, param: str) -> dict:\n",
    "    df = df[[\"supplier\", \"hub\", param]]\n",
    "    df = df.set_index([\"supplier\", \"hub\"])\n",
    "    df = df.to_dict(orient=\"index\")\n",
    "    return {(s, h): df[s, h][param] for s in suppliers for h in hubs}\n",
    "\n",
    "def hp_param(df: pd.DataFrame, param: str) -> dict:\n",
    "    df = df[[\"hub\", \"plant\", param]]\n",
    "    df = df.set_index([\"hub\", \"plant\"])\n",
    "    df = df.to_dict(orient=\"index\")\n",
    "    return {(h, p): df[h, p][param] for h in hubs for p in plants}\n",
    "\n",
    "# params from roads_s_h.csv\n",
    "dist_s_h = sh_param(roads_df, \"dist_s_h\")\n",
    "unit_cost_s_h = sh_param(roads_df, \"cost_per_unit_s_h\")\n",
    "truck_cap_s_h = sh_param(roads_df, \"truck_cap_s_h\")\n",
    "\n",
    "# params from railroads_h_p.csv\n",
    "dist_h_p = hp_param(railroads_df, \"dist_h_p\")\n",
    "unit_cost_h_p = hp_param(railroads_df, \"cost_per_unit_h_p\")\n",
    "train_cap_h_p = hp_param(railroads_df, \"train_cap_h_p\")"
   ]
  },
  {
   "cell_type": "markdown",
   "metadata": {},
   "source": [
    "### Decision Variables"
   ]
  },
  {
   "cell_type": "code",
   "execution_count": 15,
   "metadata": {},
   "outputs": [],
   "source": [
    "build_plant = m.addVars(plants, vtype=GRB.BINARY, name=\"build_plant\")\n",
    "build_hub = m.addVars(hubs, vtype=GRB.BINARY, name=\"build_hub\")\n",
    "\n",
    "trucks = m.addVars(suppliers, hubs, vtype=GRB.INTEGER, name=\"trucks\")\n",
    "trains = m.addVars(hubs, plants, vtype=GRB.INTEGER, name=\"trains\")\n",
    "\n",
    "biomass_s_h = m.addVars(suppliers, hubs, name=\"biomass_s_h\")\n",
    "biomass_h_p = m.addVars(hubs, plants, name=\"biomass_h_p\")"
   ]
  },
  {
   "cell_type": "markdown",
   "metadata": {},
   "source": [
    "### Objective Function"
   ]
  },
  {
   "cell_type": "code",
   "execution_count": 16,
   "metadata": {},
   "outputs": [],
   "source": [
    "truck_L, truck_U = 5000, 5000\n",
    "train_L, train_U = 30_000, 30_000\n",
    "\n",
    "m.setObjective(\n",
    "    gp.quicksum(\n",
    "        plants[p][\"plant_cost\"] * build_plant[p]\n",
    "        for p in plants\n",
    "    )\n",
    "    + gp.quicksum(\n",
    "        hubs[h][\"hub_cost\"] * build_hub[h]\n",
    "        for h in hubs\n",
    "    )\n",
    "    + gp.quicksum(\n",
    "        unit_cost_s_h[s, h] * biomass_s_h[s, h] * dist_s_h[s, h] \n",
    "                        + ((truck_L + truck_U) * trucks[s, h])\n",
    "        for s in suppliers\n",
    "        for h in hubs\n",
    "    )\n",
    "    + gp.quicksum(\n",
    "        unit_cost_h_p[h, p] * biomass_h_p[h, p] * dist_h_p[h, p] \n",
    "                          + ((train_L + train_U) * trains[h, p])\n",
    "        for h in hubs\n",
    "        for p in plants\n",
    "    ),\n",
    "    GRB.MINIMIZE,\n",
    ")"
   ]
  },
  {
   "cell_type": "markdown",
   "metadata": {},
   "source": [
    "### Constraints"
   ]
  },
  {
   "cell_type": "code",
   "execution_count": 20,
   "metadata": {},
   "outputs": [],
   "source": [
    "PRODUCTION = 500_000_000\n",
    "\n",
    "m.addConstrs(\n",
    "    (\n",
    "        gp.quicksum(biomass_s_h[s, h] * build_hub[h] for h in hubs) <= suppliers[s][\"supply\"]\n",
    "        for s in suppliers\n",
    "    ),\n",
    "    name=\"supply\",\n",
    ")\n",
    "\n",
    "m.addConstr(\n",
    "    (\n",
    "        gp.quicksum(biomass_h_p[h, p] * plants[p][\"yield_per_unit\"]\n",
    "                    for h in hubs \n",
    "                    for p in plants\n",
    "                    ) >= PRODUCTION\n",
    "    ),\n",
    "    name=\"production\",\n",
    ")\n",
    "\n",
    "m.addConstrs(\n",
    "    (\n",
    "        biomass_s_h[s, h] <= trucks[s, h] * truck_cap_s_h[s, h]\n",
    "        for s in suppliers\n",
    "        for h in hubs\n",
    "    ),\n",
    "    name=\"trucks\",\n",
    ")\n",
    "\n",
    "m.addConstrs(\n",
    "    (\n",
    "        biomass_h_p[h, p] <= trains[h, p] * train_cap_h_p[h, p]\n",
    "        for h in hubs\n",
    "        for p in plants\n",
    "    ),\n",
    "    name=\"trains\",\n",
    ")\n",
    "\n",
    "m.addConstrs(\n",
    "    (\n",
    "        gp.quicksum(biomass_s_h[s, h] for s in suppliers) <= hubs[h][\"hub_cap\"] * build_hub[h]\n",
    "        for h in hubs\n",
    "    ),\n",
    "    name=\"hub_capacity\",\n",
    ")\n",
    "\n",
    "\n",
    "m.addConstrs(\n",
    "    (\n",
    "        gp.quicksum(biomass_h_p[h, p] for h in hubs) <= plants[p][\"plant_cap\"] * build_plant[p]\n",
    "        for p in plants\n",
    "    ),\n",
    "    name=\"plant_capacity\",\n",
    ")\n",
    "\n",
    "m.addConstrs(\n",
    "    (\n",
    "        gp.quicksum(biomass_s_h[s, h] for s in suppliers)\n",
    "        == gp.quicksum(biomass_h_p[h, p] for p in plants)\n",
    "        for h in hubs\n",
    "    ),\n",
    "    name=\"balance_flow\",\n",
    ")\n",
    "\n",
    "gp.setParam(\"OutputFlag\", 0)"
   ]
  },
  {
   "cell_type": "markdown",
   "metadata": {},
   "source": [
    "### Solve the Model"
   ]
  },
  {
   "cell_type": "code",
   "execution_count": 21,
   "metadata": {},
   "outputs": [],
   "source": [
    "m.optimize()"
   ]
  },
  {
   "cell_type": "markdown",
   "metadata": {},
   "source": [
    "### Solve the Model"
   ]
  },
  {
   "cell_type": "code",
   "execution_count": 22,
   "metadata": {},
   "outputs": [
    {
     "name": "stdout",
     "output_type": "stream",
     "text": [
      "RESULTS\n",
      "\n",
      " (8) Plants: [541, 9047, 9060, 9091, 9178, 9183, 9203, 10066]\n",
      "(31)   Hubs: [17201, 17218, 17359, 17372, 17395, 17404, 17447, 17466, 17507, 17592]\n",
      "\t     [17620, 17679, 17717, 17784, 17792, 17822, 17829, 17896, 17931, 17934]\n",
      "\t     [17942, 17943, 18029, 18042, 18063, 18082, 18127, 18286, 18288, 18294, 18303]\n",
      "\n",
      "Total biomass: 2,155,172 Mg\n",
      "Trucks needed: 8382\n",
      "Trains needed: 5511\n",
      "\n",
      "Total cost: $5,135,420,807.26\n"
     ]
    }
   ],
   "source": [
    "plants_locations = [p for p in plants if build_plant[p].x == 1]\n",
    "hubs_locations = [h for h in hubs if build_hub[h].x == 1]\n",
    "\n",
    "total_biomass_s_h = sum(biomass_s_h[s, h].x for s in suppliers for h in hubs)\n",
    "total_biomass_s_h = f\"{total_biomass_s_h:,.0f}\"\n",
    "\n",
    "total_biomass_h_p = sum(biomass_h_p[h, p].x for h in hubs for p in plants)\n",
    "total_biomass_h_p = f\"{total_biomass_h_p:,.0f}\"\n",
    "\n",
    "if total_biomass_s_h != total_biomass_h_p:\n",
    "    print(f\"Biomass from s to h: {total_biomass_s_h} Mg\")\n",
    "    print(f\"Biomass from h to p: {total_biomass_h_p} Mg\")\n",
    "    raise Exception(\"Biomass from s to h must be equal to biomass from h to p\")\n",
    "\n",
    "\n",
    "print(\"RESULTS\\n\")\n",
    "print(f\" ({len(plants_locations)}) Plants: {plants_locations}\")\n",
    "print(f\"({len(hubs_locations)})   Hubs: {hubs_locations[:10]}\")\n",
    "print(f\"\\t     {hubs_locations[10:20]}\")\n",
    "print(f\"\\t     {hubs_locations[20:]}\\n\")\n",
    "print(f\"Total biomass: {total_biomass_s_h} Mg\")\n",
    "\n",
    "print(f\"Trucks needed: {len(trucks.keys())}\")\n",
    "print(f\"Trains needed: {len(trains.keys())}\")\n",
    "print(f\"\\nTotal cost: ${m.objVal:,.2f}\")"
   ]
  },
  {
   "cell_type": "markdown",
   "metadata": {},
   "source": [
    "### Interpreting the Results\n",
    "\n",
    "As shown above, \n",
    "- there are **8 locations** at which we want to **build plants**, \n",
    "- there are **31 locations** at which we want to **build hubs**, \n",
    "- we need **8382 trucks** and **5511** trains,\n",
    "- the **total cost** is about **5.1 billion** dollars"
   ]
  },
  {
   "cell_type": "markdown",
   "metadata": {},
   "source": [
    "## Task 3\n",
    "\n",
    "### Sets\n",
    "\n",
    "$S=$ suppliers\n",
    "\n",
    "$P=$ plants"
   ]
  },
  {
   "cell_type": "markdown",
   "metadata": {},
   "source": [
    "### Parameters\n",
    "\n",
    "- Distance from supplier to plant (km)\n",
    "- Cost per unit on a road from supplier to plant\n",
    "- Truck cost \n",
    "- Truck capacity\n",
    "- Plant cost\n",
    "- Plant capacity\n",
    "- Yield per unit at a plant\n",
    "- Supply of biomass in tons for a supplier"
   ]
  },
  {
   "cell_type": "markdown",
   "metadata": {},
   "source": [
    "### Decision Variables\n",
    "\n",
    "$b_p\\in\\{0,1\\}=$ binary variable, whether a plant at location $p$ should be built or not.\n",
    "\n",
    "$x_{sp}=$ tons of biomass transported from supplier $s$ to plant $p$.\n",
    "\n",
    "$t\\in\\mathbb{Z}=$ integer variable, the number of trucks used."
   ]
  },
  {
   "cell_type": "markdown",
   "metadata": {},
   "source": [
    "### Defining the Model"
   ]
  },
  {
   "cell_type": "code",
   "execution_count": 24,
   "metadata": {},
   "outputs": [],
   "source": [
    "m = gp.Model(\"SupplyChain3\")\n",
    "gp.setParam(\"OutputFlag\", 0)"
   ]
  },
  {
   "cell_type": "markdown",
   "metadata": {},
   "source": [
    "### Parameters"
   ]
  },
  {
   "cell_type": "code",
   "execution_count": 26,
   "metadata": {},
   "outputs": [],
   "source": [
    "# Same as before, but with a third party with unlimited supply\n",
    "unit_cost_third_party = 2000"
   ]
  },
  {
   "cell_type": "markdown",
   "metadata": {},
   "source": [
    "### Decision Variables"
   ]
  },
  {
   "cell_type": "code",
   "execution_count": 27,
   "metadata": {},
   "outputs": [],
   "source": [
    "build_plant = m.addVars(plants, vtype=GRB.BINARY, name=\"build_plant\")\n",
    "build_hub = m.addVars(hubs, vtype=GRB.BINARY, name=\"build_hub\")\n",
    "\n",
    "trucks = m.addVars(suppliers, hubs, vtype=GRB.INTEGER, name=\"trucks\")\n",
    "trains = m.addVars(hubs, plants, vtype=GRB.INTEGER, name=\"trains\")\n",
    "third_party_suppliers = m.addVar(vtype=GRB.INTEGER, name=\"third_party_suppliers\")\n",
    "\n",
    "biomass_s_h = m.addVars(suppliers, hubs, name=\"biomass_s_h\")\n",
    "biomass_h_p = m.addVars(hubs, plants, name=\"biomass_h_p\")"
   ]
  },
  {
   "cell_type": "markdown",
   "metadata": {},
   "source": [
    "### Objective Function"
   ]
  },
  {
   "cell_type": "code",
   "execution_count": 28,
   "metadata": {},
   "outputs": [],
   "source": [
    "truck_L, truck_U = 5000, 5000\n",
    "train_L, train_U = 30_000, 30_000\n",
    "third_party_unit_cost = 2000\n",
    "\n",
    "# same as before but with third party with unlimited supply to hubs and a unit cost of 2000\n",
    "# the location of the third parties does not matter\n",
    "m.setObjective(\n",
    "    gp.quicksum(\n",
    "        plants[p][\"plant_cost\"] * build_plant[p]\n",
    "        for p in plants\n",
    "    )\n",
    "    + gp.quicksum(\n",
    "        hubs[h][\"hub_cost\"] * build_hub[h]\n",
    "        for h in hubs\n",
    "    )\n",
    "    + gp.quicksum(\n",
    "        unit_cost_s_h[s, h] * biomass_s_h[s, h] * dist_s_h[s, h] \n",
    "                        + ((truck_L + truck_U) * trucks[s, h])\n",
    "        for s in suppliers\n",
    "        for h in hubs\n",
    "    )\n",
    "    + gp.quicksum(\n",
    "        unit_cost_h_p[h, p] * biomass_h_p[h, p] * dist_h_p[h, p] \n",
    "                          + ((train_L + train_U) * trains[h, p])\n",
    "        for h in hubs\n",
    "        for p in plants\n",
    "    )\n",
    "    + third_party_unit_cost * third_party_suppliers,\n",
    "    GRB.MINIMIZE,\n",
    ")"
   ]
  },
  {
   "cell_type": "markdown",
   "metadata": {},
   "source": [
    "### Constraints"
   ]
  },
  {
   "cell_type": "code",
   "execution_count": null,
   "metadata": {},
   "outputs": [],
   "source": [
    "# same as before but \n",
    "PRODUCTION = 800_000_000"
   ]
  },
  {
   "cell_type": "markdown",
   "metadata": {},
   "source": []
  }
 ],
 "metadata": {
  "kernelspec": {
   "display_name": "obb",
   "language": "python",
   "name": "python3"
  },
  "language_info": {
   "codemirror_mode": {
    "name": "ipython",
    "version": 3
   },
   "file_extension": ".py",
   "mimetype": "text/x-python",
   "name": "python",
   "nbconvert_exporter": "python",
   "pygments_lexer": "ipython3",
   "version": "3.9.13"
  },
  "orig_nbformat": 4
 },
 "nbformat": 4,
 "nbformat_minor": 2
}
