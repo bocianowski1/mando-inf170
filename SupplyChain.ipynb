{
 "cells": [
  {
   "cell_type": "markdown",
   "metadata": {},
   "source": [
    "# Mandatory Assignment\n",
    "**Torger Bocianowski**\n",
    "\n",
    "## Task 1"
   ]
  },
  {
   "cell_type": "markdown",
   "metadata": {},
   "source": [
    "### Sets\n",
    "\n",
    "$S=$ suppliers\n",
    "\n",
    "$P=$ plants"
   ]
  },
  {
   "cell_type": "markdown",
   "metadata": {},
   "source": [
    "### Parameters\n",
    "\n",
    "- Distance from supplier to plant (km)\n",
    "- Cost per unit on a road from supplier to plant\n",
    "- Truck cost \n",
    "- Truck capacity\n",
    "- Plant cost\n",
    "- Plant capacity\n",
    "- Yield per unit at a plant\n",
    "- Supply of biomass in tons for a supplier"
   ]
  },
  {
   "cell_type": "markdown",
   "metadata": {},
   "source": [
    "### Decision Variables\n",
    "\n",
    "$b_p\\in\\{0,1\\}=$ binary variable, whether a plant at location $p$ should be built or not.\n",
    "\n",
    "$x_{sp}=$ tons of biomass transported from supplier $s$ to plant $p$.\n",
    "\n",
    "$t\\in\\mathbb{Z}=$ integer variable, the number of trucks used."
   ]
  },
  {
   "cell_type": "markdown",
   "metadata": {},
   "source": [
    "### Formulating the Objective Function & Constraints\n",
    "\n",
    "$O_p=$ constant opening cost of a plant $p$.\n",
    "\n",
    "$d_{sp}=$ distance driven (km) from supplier $s$ to plant $p$.\n",
    "\n",
    "$L_t, U_t=$ truck loading / unloading cost\n",
    "\n",
    "<br></br>\n",
    "\n",
    "### The Model\n",
    "\n",
    "_minimize Cost_: $\\sum_p O_p\\cdot b_p$\n",
    "\n",
    "$\\hspace{4.9em}+\\sum_{sp}u_{sp}x_{sp}d_{sp}$\n",
    "\n",
    "$\\hspace{4.9em}+(L_t+U_t)t_{sp}$\n",
    "\n",
    "<br></br>\n",
    "\n",
    "$\\hspace{0.25em}$ _subject to_: $\\space\\sum_{h}x_{sp}\\cdot b_h\\leq S_s\\hspace{2.9em}\\forall s\\in S\\hspace{6em}$ (Supply)\n",
    "\n",
    "$\\hspace{5em} \\sum_{hp}x_{hp}\\cdot y_p\\leq500\\space000\\space000\\hspace{7.4em}$ (Production)\n",
    "\n",
    "$\\hspace{5em} x_{sp}\\leq t_{sp}\\cdot C_{psp}\\hspace{12.3em}$ (Number of trucks)\n",
    "\n",
    "$\\hspace{5em} \\sum_{s}x_{sp}\\leq Cap_h\\hspace{3.2em}\\forall h\\in H\\hspace{5.7em}$ (Hub capacity)\n",
    "\n",
    "$\\hspace{5em} \\sum_{h}x_{hp}\\leq Cap_p\\hspace{3.2em}\\forall p\\in P\\hspace{5.8em}$ (Plant capacity)\n",
    "\n",
    "$\\hspace{5em} \\sum_{s}x_{sp}=\\sum_{p}x_{hp}\\hspace{2.5em}\\forall h\\in H\\hspace{5.6em}$ (Flow balance)\n",
    "\n",
    "<br></br>"
   ]
  },
  {
   "cell_type": "markdown",
   "metadata": {},
   "source": [
    "### Constraints\n",
    "\n",
    "- $\\sum_{sp}x_{sp}y_p\\geq500\\space000\\space000$\n",
    "\n",
    "- $\\sum_s x_{sp}y_p\\leq cap_p\\quad\\forall p\\in P$\n",
    "\n",
    "- $\\frac{x_{sp}}{cap_t}\\leq t\\quad\\forall s\\in S\\quad\\forall p\\in P$\n",
    "\n",
    "- $x_{sp} >= 0\\quad\\forall s\\in S\\quad\\forall p\\in P$"
   ]
  },
  {
   "cell_type": "code",
   "execution_count": 2,
   "metadata": {},
   "outputs": [],
   "source": [
    "import pandas as pd\n",
    "import gurobipy as gp\n",
    "from gurobipy import GRB\n",
    "\n",
    "gp.setParam(\"OutputFlag\", 0)"
   ]
  },
  {
   "cell_type": "code",
   "execution_count": 3,
   "metadata": {},
   "outputs": [],
   "source": [
    "# Dataframes\n",
    "suppliers_df = pd.read_csv(\"data/suppliers.csv\")\n",
    "plants_df = pd.read_csv(\"data/plants.csv\")\n",
    "roads_df = pd.read_csv(\"data/roads_s_p.csv\")\n",
    "\n",
    "# Sets\n",
    "suppliers = suppliers_df.set_index(\"supplier\")\n",
    "suppliers = suppliers.to_dict(orient=\"index\")\n",
    "\n",
    "plants = plants_df.set_index(\"plant\")\n",
    "plants = plants.to_dict(orient=\"index\")"
   ]
  },
  {
   "cell_type": "markdown",
   "metadata": {},
   "source": [
    "### Defining the Model"
   ]
  },
  {
   "cell_type": "code",
   "execution_count": 4,
   "metadata": {},
   "outputs": [],
   "source": [
    "m = gp.Model(\"SupplyChain\")"
   ]
  },
  {
   "cell_type": "markdown",
   "metadata": {},
   "source": [
    "### Parameters"
   ]
  },
  {
   "cell_type": "code",
   "execution_count": 5,
   "metadata": {},
   "outputs": [],
   "source": [
    "def sp_param(df: pd.DataFrame, param: str) -> dict:\n",
    "    df = df[[\"supplier\", \"plant\", param]]\n",
    "    df = df.set_index([\"supplier\", \"plant\"])\n",
    "    df = df.to_dict(orient=\"index\")\n",
    "    return {(s, p): df[s, p][param] for s in suppliers for p in plants}\n",
    "\n",
    "dist_s_p = sp_param(roads_df, \"dist_s_p\")\n",
    "unit_cost_s_p = sp_param(roads_df, \"cost_per_unit_s_p\")\n",
    "truck_cost_s_p = sp_param(roads_df, \"truck_cost_s_p\")\n",
    "truck_cap_s_p = sp_param(roads_df, \"truck_cap_s_p\")"
   ]
  },
  {
   "cell_type": "markdown",
   "metadata": {},
   "source": [
    "### Decision Variables"
   ]
  },
  {
   "cell_type": "code",
   "execution_count": 6,
   "metadata": {},
   "outputs": [],
   "source": [
    "build = m.addVars(plants, vtype=GRB.BINARY, name=\"build\")\n",
    "num_trucks = m.addVars(suppliers, plants, vtype=GRB.INTEGER, name=\"trucks\")\n",
    "biomass = m.addVars(suppliers, plants, name=\"biomass\")"
   ]
  },
  {
   "cell_type": "markdown",
   "metadata": {},
   "source": [
    "### Objective Function"
   ]
  },
  {
   "cell_type": "code",
   "execution_count": 7,
   "metadata": {},
   "outputs": [],
   "source": [
    "m.setObjective(\n",
    "    gp.quicksum(\n",
    "        plants[p][\"plant_cost\"] * build[p]\n",
    "        for p in plants\n",
    "    )\n",
    "    + gp.quicksum(\n",
    "        unit_cost_s_p[s, p] * biomass[s, p] * dist_s_p[s, p]\n",
    "                            + (truck_cost_s_p[s, p] * num_trucks[s, p])\n",
    "        for s in suppliers\n",
    "        for p in plants\n",
    "    ), \n",
    "    GRB.MINIMIZE,\n",
    ")"
   ]
  },
  {
   "cell_type": "markdown",
   "metadata": {},
   "source": [
    "### Constraints"
   ]
  },
  {
   "cell_type": "code",
   "execution_count": 8,
   "metadata": {},
   "outputs": [],
   "source": [
    "PRODUCTION = 500_000_000\n",
    "\n",
    "m.addConstrs(\n",
    "    (\n",
    "        gp.quicksum(biomass[s, p] for p in plants) <= suppliers[s][\"supply\"]\n",
    "        for s in suppliers\n",
    "    ),\n",
    "    name=\"supply\",\n",
    ")\n",
    "\n",
    "m.addConstrs(\n",
    "    (\n",
    "        gp.quicksum(biomass[s, p] for s in suppliers) <= plants[p][\"plant_cap\"] * build[p]\n",
    "        for p in plants\n",
    "    ),\n",
    "    name=\"capacity\",\n",
    ")\n",
    "\n",
    "m.addConstr(\n",
    "    (\n",
    "        gp.quicksum(biomass[s, p] * plants[p][\"yield_per_unit\"] \n",
    "                    for s in suppliers \n",
    "                    for p in plants\n",
    "                    ) >= PRODUCTION\n",
    "    ),\n",
    "    name=\"production\",\n",
    ")\n",
    "\n",
    "m.addConstrs(\n",
    "    (\n",
    "        biomass[s, p] <= num_trucks[s, p] * truck_cap_s_p[s, p]\n",
    "        for s in suppliers\n",
    "        for p in plants\n",
    "    ),\n",
    "    name=\"trucks\",\n",
    ")\n",
    "\n",
    "gp.setParam(\"OutputFlag\", 0)"
   ]
  },
  {
   "cell_type": "markdown",
   "metadata": {},
   "source": [
    "### Solving the Model"
   ]
  },
  {
   "cell_type": "code",
   "execution_count": 9,
   "metadata": {},
   "outputs": [],
   "source": [
    "m.optimize()"
   ]
  },
  {
   "cell_type": "code",
   "execution_count": 10,
   "metadata": {},
   "outputs": [
    {
     "name": "stdout",
     "output_type": "stream",
     "text": [
      "RESULTS\n",
      "(11) Locations: [541, 9063, 9071, 9102, 9107, 9155, 9178, 9183, 9203, 10058, 10066]\n",
      "Total biomass: 2,155,172 Mg\n",
      "Trucks needed: 4374.0\n",
      "Total cost: 8,501,423,644\n"
     ]
    }
   ],
   "source": [
    "locations = [p for p in plants if build[p].x == 1]\n",
    "total_biomass = sum(biomass[s, p].x for s in suppliers for p in plants)\n",
    "total_num_trucks = sum(num_trucks[s, p].x for s in suppliers for p in plants)\n",
    "\n",
    "print(\"RESULTS\")\n",
    "print(f\"({len(locations)}) Locations: {locations}\")\n",
    "print(f\"Total biomass: {total_biomass:,.0f} Mg\")\n",
    "print(f\"Trucks needed: {total_num_trucks}\")\n",
    "print(f\"Total cost: {m.objVal:,.0f}\")\n"
   ]
  },
  {
   "cell_type": "markdown",
   "metadata": {},
   "source": [
    "### Interpreting the Results\n",
    "\n",
    "As shown above, \n",
    "- there are **11 locations** at which we want to **build plants**, \n",
    "- we need **4374 trucks** to transport **~2.155Mg** biomass and \n",
    "- the **total cost** is **~8.5 billion** dollars"
   ]
  },
  {
   "cell_type": "markdown",
   "metadata": {},
   "source": [
    "## Task 2"
   ]
  },
  {
   "cell_type": "markdown",
   "metadata": {},
   "source": [
    "### Sets\n",
    "$S=$ suppliers\n",
    "\n",
    "$H=$ hubs\n",
    "\n",
    "$P=$ plants"
   ]
  },
  {
   "cell_type": "markdown",
   "metadata": {},
   "source": [
    "### Parameters\n",
    "\n",
    "- Hub cost\n",
    "- Hub capacity\n",
    "- Truck cost from supplier to hub\n",
    "- Truck capacity from supplier to hub\n",
    "- Train cost from hub to plant\n",
    "- Train capacity from hub to plant\n",
    "- Distance from supplier to hub\n",
    "- Distance from hub to supplier\n",
    "- Cost per unit on a road from supplier to hub\n",
    "- Cost per unit on a road from hub to plant\n"
   ]
  },
  {
   "cell_type": "markdown",
   "metadata": {},
   "source": [
    "### Decision Variables\n",
    "\n",
    "$b_p\\in\\{0,1\\}=$ binary variable, whether a plant at location $p$ should be built or not.\n",
    "\n",
    "$b_h\\in\\{0,1\\}=$ binary variable, whether a hub at location $h$ should be built or not.\n",
    "\n",
    "$x_{sh}=$ tons of biomass transported from supplier $s$ to hub $h$.\n",
    "\n",
    "$x_{hp}=$ tons of biomass transported from hub $h$ to plant $p$.\n",
    "\n",
    "$t\\in\\mathbb{Z}=$ integer variable, the number of trucks to be used.\n",
    "\n",
    "$r\\in\\mathbb{Z}=$ integer variable, the number of trains to be used."
   ]
  },
  {
   "cell_type": "markdown",
   "metadata": {},
   "source": [
    "### Formulating the Objective Function & Constraints\n",
    "\n",
    "$O_p=$ constant opening cost of a plant $p$.\n",
    "\n",
    "$O_h=$ constant opening cost of a hub $h$.\n",
    "\n",
    "$d_{sh}=$ distance driven (km) from supplier $s$ to hub $h$ by road.\n",
    "\n",
    "$d_{hp}=$ distance driven (km) from hub $h$ to plant $p$ by train.\n",
    "\n",
    "$L_t, U_t=$ truck loading / unloading cost\n",
    "\n",
    "$L_r, U_r=$ train loading / unloading cost\n",
    "\n",
    "<br></br>\n",
    "\n",
    "### The Model\n",
    "\n",
    "_minimize Cost_: $\\sum_p O_p\\cdot b_p$\n",
    "\n",
    "$\\hspace{4.9em}+\\sum_p O_h\\cdot b_h$\n",
    "\n",
    "$\\hspace{4.9em}+\\sum_{sh}u_{sh}x_{sh}d_{sh}$\n",
    "\n",
    "$\\hspace{4.9em}+\\sum_{hp}u_{hp}x_{hp}d_{hp}$\n",
    "\n",
    "$\\hspace{4.9em}+(L_t+U_t)t_{sh}$\n",
    "\n",
    "$\\hspace{4.9em}+(L_r+U_r)r_{hp}$\n",
    "\n",
    "<br></br>\n",
    "\n",
    "$\\hspace{0.25em}$ _subject to_: $\\space\\sum_{h}x_{sh}\\cdot b_h\\leq S_s\\hspace{2.9em}\\forall s\\in S\\hspace{6em}$ (Supply)\n",
    "\n",
    "$\\hspace{5em} \\sum_{hp}x_{hp}\\cdot y_p\\leq500\\space000\\space000\\hspace{7.4em}$ (Production)\n",
    "\n",
    "$\\hspace{5em} x_{sh}\\leq t_{sh}\\cdot C_{psh}\\hspace{12.3em}$ (Number of trucks)\n",
    "\n",
    "$\\hspace{5em} x_{hp}\\leq r_{hp}\\cdot C_{rhp}\\hspace{12.2em}$ (Number of trains)\n",
    "\n",
    "$\\hspace{5em} \\sum_{s}x_{sh}\\leq Cap_h\\hspace{3.2em}\\forall h\\in H\\hspace{5.7em}$ (Hub capacity)\n",
    "\n",
    "$\\hspace{5em} \\sum_{h}x_{hp}\\leq Cap_p\\hspace{3.2em}\\forall p\\in P\\hspace{5.8em}$ (Plant capacity)\n",
    "\n",
    "$\\hspace{5em} \\sum_{s}x_{sh}=\\sum_{p}x_{hp}\\hspace{2.5em}\\forall h\\in H\\hspace{5.6em}$ (Flow balance)\n",
    "\n",
    "<br></br>"
   ]
  },
  {
   "cell_type": "markdown",
   "metadata": {},
   "source": [
    "### Programming\n",
    "\n",
    "### Sets\n",
    "\n",
    "We add a new set hubs. Suppliers and plants remain the same from the previous task."
   ]
  },
  {
   "cell_type": "code",
   "execution_count": 11,
   "metadata": {},
   "outputs": [],
   "source": [
    "# Dataframes\n",
    "hubs_df = pd.read_csv(\"data/hubs.csv\")\n",
    "railroads_df = pd.read_csv(\"data/railroads_h_p.csv\")\n",
    "roads_df = pd.read_csv(\"data/roads_s_h.csv\")\n",
    "\n",
    "# Sets\n",
    "hubs = hubs_df.set_index(\"hub\")\n",
    "hubs = hubs.to_dict(orient=\"index\")"
   ]
  },
  {
   "cell_type": "markdown",
   "metadata": {},
   "source": [
    "### Defining the Model"
   ]
  },
  {
   "cell_type": "code",
   "execution_count": 12,
   "metadata": {},
   "outputs": [],
   "source": [
    "m = gp.Model(\"SupplyChain2\")"
   ]
  },
  {
   "cell_type": "markdown",
   "metadata": {},
   "source": [
    "### Parameters"
   ]
  },
  {
   "cell_type": "code",
   "execution_count": 13,
   "metadata": {},
   "outputs": [],
   "source": [
    "# Helper functions\n",
    "def sh_param(df: pd.DataFrame, param: str) -> dict:\n",
    "    df = df[[\"supplier\", \"hub\", param]]\n",
    "    df = df.set_index([\"supplier\", \"hub\"])\n",
    "    df = df.to_dict(orient=\"index\")\n",
    "    return {(s, h): df[s, h][param] for s in suppliers for h in hubs}\n",
    "\n",
    "def hp_param(df: pd.DataFrame, param: str) -> dict:\n",
    "    df = df[[\"hub\", \"plant\", param]]\n",
    "    df = df.set_index([\"hub\", \"plant\"])\n",
    "    df = df.to_dict(orient=\"index\")\n",
    "    return {(h, p): df[h, p][param] for h in hubs for p in plants}\n",
    "\n",
    "# params from roads_s_h.csv\n",
    "dist_s_h = sh_param(roads_df, \"dist_s_h\")\n",
    "unit_cost_s_h = sh_param(roads_df, \"cost_per_unit_s_h\")\n",
    "truck_cost_s_h = sh_param(roads_df, \"truck_cost_s_h\")\n",
    "truck_cap_s_h = sh_param(roads_df, \"truck_cap_s_h\")\n",
    "\n",
    "# params from railroads_h_p.csv\n",
    "dist_h_p = hp_param(railroads_df, \"dist_h_p\")\n",
    "unit_cost_h_p = hp_param(railroads_df, \"cost_per_unit_h_p\")\n",
    "train_cost_h_p = hp_param(railroads_df, \"train_cost_h_p\")\n",
    "train_cap_h_p = hp_param(railroads_df, \"train_cap_h_p\")"
   ]
  },
  {
   "cell_type": "markdown",
   "metadata": {},
   "source": [
    "### Decision Variables"
   ]
  },
  {
   "cell_type": "code",
   "execution_count": 14,
   "metadata": {},
   "outputs": [],
   "source": [
    "build_plant = m.addVars(plants, vtype=GRB.BINARY, name=\"build_plant\")\n",
    "build_hub = m.addVars(hubs, vtype=GRB.BINARY, name=\"build_hub\")\n",
    "\n",
    "num_trucks = m.addVars(suppliers, hubs, vtype=GRB.INTEGER, name=\"trucks\")\n",
    "num_trains = m.addVars(hubs, plants, vtype=GRB.INTEGER, name=\"trains\")\n",
    "\n",
    "biomass_s_h = m.addVars(suppliers, hubs, name=\"biomass_s_h\")\n",
    "biomass_h_p = m.addVars(hubs, plants, name=\"biomass_h_p\")"
   ]
  },
  {
   "cell_type": "markdown",
   "metadata": {},
   "source": [
    "### Objective Function"
   ]
  },
  {
   "cell_type": "code",
   "execution_count": 16,
   "metadata": {},
   "outputs": [],
   "source": [
    "m.setObjective(\n",
    "    gp.quicksum(\n",
    "        plants[p][\"plant_cost\"] * build_plant[p]\n",
    "        for p in plants\n",
    "    )\n",
    "    + gp.quicksum(\n",
    "        hubs[h][\"hub_cost\"] * build_hub[h]\n",
    "        for h in hubs\n",
    "    )\n",
    "    + gp.quicksum(\n",
    "        unit_cost_s_h[s, h] * biomass_s_h[s, h] * dist_s_h[s, h] \n",
    "                        + (truck_cost_s_h[s, h] * num_trucks[s, h])\n",
    "        for s in suppliers\n",
    "        for h in hubs\n",
    "    )\n",
    "    + gp.quicksum(\n",
    "        unit_cost_h_p[h, p] * biomass_h_p[h, p] * dist_h_p[h, p] \n",
    "                          + (train_cost_h_p[h, p] * num_trains[h, p])\n",
    "        for h in hubs\n",
    "        for p in plants\n",
    "    ),\n",
    "    GRB.MINIMIZE,\n",
    ")"
   ]
  },
  {
   "cell_type": "markdown",
   "metadata": {},
   "source": [
    "### Constraints"
   ]
  },
  {
   "cell_type": "code",
   "execution_count": 17,
   "metadata": {},
   "outputs": [],
   "source": [
    "PRODUCTION = 500_000_000\n",
    "\n",
    "m.addConstrs(\n",
    "    (\n",
    "        gp.quicksum(\n",
    "            biomass_s_h[s, h] * build_hub[h] for h in hubs\n",
    "        ) <= suppliers[s][\"supply\"]\n",
    "        for s in suppliers\n",
    "    ),\n",
    "    name=\"supply\",\n",
    ")\n",
    "\n",
    "m.addConstr(\n",
    "    (\n",
    "        gp.quicksum(\n",
    "            biomass_h_p[h, p] * plants[p][\"yield_per_unit\"]\n",
    "                    for h in hubs \n",
    "                    for p in plants\n",
    "        ) >= PRODUCTION\n",
    "    ),\n",
    "    name=\"production\",\n",
    ")\n",
    "\n",
    "m.addConstrs(\n",
    "    (\n",
    "        biomass_s_h[s, h] <= num_trucks[s, h] * truck_cap_s_h[s, h]\n",
    "        for s in suppliers\n",
    "        for h in hubs\n",
    "    ),\n",
    "    name=\"trucks\",\n",
    ")\n",
    "\n",
    "m.addConstrs(\n",
    "    (\n",
    "        biomass_h_p[h, p] <= num_trains[h, p] * train_cap_h_p[h, p]\n",
    "        for h in hubs\n",
    "        for p in plants\n",
    "    ),\n",
    "    name=\"trains\",\n",
    ")\n",
    "\n",
    "m.addConstrs(\n",
    "    (\n",
    "        gp.quicksum(\n",
    "            biomass_s_h[s, h] for s in suppliers\n",
    "        ) <= hubs[h][\"hub_cap\"] * build_hub[h]\n",
    "        for h in hubs\n",
    "    ),\n",
    "    name=\"hub_capacity\",\n",
    ")\n",
    "\n",
    "\n",
    "m.addConstrs(\n",
    "    (\n",
    "        gp.quicksum(\n",
    "            biomass_h_p[h, p] for h in hubs\n",
    "        ) <= plants[p][\"plant_cap\"] * build_plant[p]\n",
    "        for p in plants\n",
    "    ),\n",
    "    name=\"plant_capacity\",\n",
    ")\n",
    "\n",
    "m.addConstrs(\n",
    "    (\n",
    "        gp.quicksum(biomass_s_h[s, h] for s in suppliers)\n",
    "        == gp.quicksum(biomass_h_p[h, p] for p in plants)\n",
    "        for h in hubs\n",
    "    ),\n",
    "    name=\"balance_flow\",\n",
    ")\n",
    "\n",
    "gp.setParam(\"OutputFlag\", 0)"
   ]
  },
  {
   "cell_type": "markdown",
   "metadata": {},
   "source": [
    "### Solving the Model"
   ]
  },
  {
   "cell_type": "code",
   "execution_count": 18,
   "metadata": {},
   "outputs": [],
   "source": [
    "m.optimize()"
   ]
  },
  {
   "cell_type": "markdown",
   "metadata": {},
   "source": [
    "### Solve the Model"
   ]
  },
  {
   "cell_type": "code",
   "execution_count": 20,
   "metadata": {},
   "outputs": [
    {
     "name": "stdout",
     "output_type": "stream",
     "text": [
      "RESULTS\n",
      "\n",
      " (8) Plants: [541, 9047, 9060, 9091, 9178, 9183, 9203, 10066]\n",
      "(31)   Hubs: [17201, 17218, 17359, 17372, 17395, 17404, 17447, 17466, 17507, 17592]\n",
      "\t     [17620, 17679, 17717, 17784, 17792, 17822, 17829, 17896, 17931, 17934]\n",
      "\t     [17942, 17943, 18029, 18042, 18063, 18082, 18127, 18286, 18288, 18294, 18303]\n",
      "\n",
      "Total biomass: 2,155,172 Mg\n",
      "Trucks needed: 4372.0\n",
      "Trains needed: 124.0\n",
      "\n",
      "Total cost: $5,135,420,807\n"
     ]
    }
   ],
   "source": [
    "plants_locations = [p for p in plants if build_plant[p].x == 1]\n",
    "hubs_locations = [h for h in hubs if build_hub[h].x == 1]\n",
    "\n",
    "total_biomass_s_h = sum(biomass_s_h[s, h].x for s in suppliers for h in hubs)\n",
    "total_biomass_s_h = f\"{total_biomass_s_h:,.0f}\"\n",
    "\n",
    "total_biomass_h_p = sum(biomass_h_p[h, p].x for h in hubs for p in plants)\n",
    "total_biomass_h_p = f\"{total_biomass_h_p:,.0f}\"\n",
    "\n",
    "total_num_trucks = sum(num_trucks[s, h].x for s in suppliers for h in hubs)\n",
    "total_num_trains = sum(num_trains[h, p].x for h in hubs for p in plants)\n",
    "\n",
    "print(\"RESULTS\\n\")\n",
    "print(f\" ({len(plants_locations)}) Plants: {plants_locations}\")\n",
    "print(f\"({len(hubs_locations)})   Hubs: {hubs_locations[:10]}\")\n",
    "print(f\"\\t     {hubs_locations[10:20]}\")\n",
    "print(f\"\\t     {hubs_locations[20:]}\\n\")\n",
    "print(f\"Total biomass: {total_biomass_s_h} Mg\") # biomass_s_h = biomass_h_p\n",
    "\n",
    "print(f\"Trucks needed: {total_num_trucks}\")\n",
    "print(f\"Trains needed: {total_num_trains}\")\n",
    "print(f\"\\nTotal cost: ${m.objVal:,.0f}\")"
   ]
  },
  {
   "cell_type": "markdown",
   "metadata": {},
   "source": [
    "### Interpreting the Results\n",
    "\n",
    "As shown above, \n",
    "- there are **8 locations** at which we want to **build plants**, \n",
    "- there are **31 locations** at which we want to **build hubs**, \n",
    "- we need **4372 trucks** and **124** trains to transport **~2.155Mg** biomass and,\n",
    "- the **total cost** is **~5.135 billion** dollars"
   ]
  },
  {
   "cell_type": "markdown",
   "metadata": {},
   "source": [
    "## Task 3\n",
    "\n",
    "### Sets\n",
    "\n",
    "$S=$ suppliers\n",
    "\n",
    "$H=$ hubs\n",
    "\n",
    "$P=$ plants"
   ]
  },
  {
   "cell_type": "markdown",
   "metadata": {},
   "source": [
    "### Parameters\n",
    "\n",
    "- Distance from supplier to plant (km)\n",
    "- Cost per unit on a road from supplier to plant\n",
    "- Truck cost \n",
    "- Truck capacity\n",
    "- Plant cost\n",
    "- Plant capacity\n",
    "- Yield per unit at a plant\n",
    "- Supply of biomass in tons for a supplier"
   ]
  },
  {
   "cell_type": "markdown",
   "metadata": {},
   "source": [
    "### Decision Variables\n",
    "\n",
    "$b_p\\in\\{0,1\\}=$ binary variable, whether a plant at location $p$ should be built or not.\n",
    "\n",
    "$x_{sp}=$ tons of biomass transported from supplier $s$ to plant $p$.\n",
    "\n",
    "$t\\in\\mathbb{Z}=$ integer variable, the number of trucks used."
   ]
  },
  {
   "cell_type": "markdown",
   "metadata": {},
   "source": [
    "### Defining the Model"
   ]
  },
  {
   "cell_type": "code",
   "execution_count": 25,
   "metadata": {},
   "outputs": [],
   "source": [
    "m = gp.Model(\"SupplyChain3\")"
   ]
  },
  {
   "cell_type": "markdown",
   "metadata": {},
   "source": [
    "### Parameters"
   ]
  },
  {
   "cell_type": "code",
   "execution_count": 26,
   "metadata": {},
   "outputs": [],
   "source": [
    "# Same as before, but with a third party with unlimited supply\n",
    "unit_cost_third_party = 2000"
   ]
  },
  {
   "cell_type": "markdown",
   "metadata": {},
   "source": [
    "### Decision Variables"
   ]
  },
  {
   "cell_type": "code",
   "execution_count": 27,
   "metadata": {},
   "outputs": [],
   "source": [
    "build_plant = m.addVars(plants, vtype=GRB.BINARY, name=\"build_plant\")\n",
    "build_hub = m.addVars(hubs, vtype=GRB.BINARY, name=\"build_hub\")\n",
    "\n",
    "trucks = m.addVars(suppliers, hubs, vtype=GRB.INTEGER, name=\"trucks\")\n",
    "trains = m.addVars(hubs, plants, vtype=GRB.INTEGER, name=\"trains\")\n",
    "third_party_suppliers = m.addVar(vtype=GRB.INTEGER, name=\"third_party_suppliers\")\n",
    "\n",
    "biomass_s_h = m.addVars(suppliers, hubs, name=\"biomass_s_h\")\n",
    "biomass_h_p = m.addVars(hubs, plants, name=\"biomass_h_p\")"
   ]
  },
  {
   "cell_type": "markdown",
   "metadata": {},
   "source": [
    "### Objective Function"
   ]
  },
  {
   "cell_type": "code",
   "execution_count": 28,
   "metadata": {},
   "outputs": [],
   "source": [
    "truck_L, truck_U = 5000, 5000\n",
    "train_L, train_U = 30_000, 30_000\n",
    "third_party_unit_cost = 2000\n",
    "\n",
    "# same as before but with third party with unlimited supply to hubs and a unit cost of 2000\n",
    "# the location of the third parties does not matter\n",
    "m.setObjective(\n",
    "    gp.quicksum(\n",
    "        plants[p][\"plant_cost\"] * build_plant[p]\n",
    "        for p in plants\n",
    "    )\n",
    "    + gp.quicksum(\n",
    "        hubs[h][\"hub_cost\"] * build_hub[h]\n",
    "        for h in hubs\n",
    "    )\n",
    "    + gp.quicksum(\n",
    "        unit_cost_s_h[s, h] * biomass_s_h[s, h] * dist_s_h[s, h] \n",
    "                        + ((truck_L + truck_U) * trucks[s, h])\n",
    "        for s in suppliers\n",
    "        for h in hubs\n",
    "    )\n",
    "    + gp.quicksum(\n",
    "        unit_cost_h_p[h, p] * biomass_h_p[h, p] * dist_h_p[h, p] \n",
    "                          + ((train_L + train_U) * trains[h, p])\n",
    "        for h in hubs\n",
    "        for p in plants\n",
    "    )\n",
    "    + third_party_unit_cost * third_party_suppliers,\n",
    "    GRB.MINIMIZE,\n",
    ")"
   ]
  },
  {
   "cell_type": "markdown",
   "metadata": {},
   "source": [
    "### Constraints"
   ]
  },
  {
   "cell_type": "code",
   "execution_count": 92,
   "metadata": {},
   "outputs": [
    {
     "data": {
      "text/plain": [
       "{(17201, 69): <gurobi.Constr *Awaiting Model Update*>,\n",
       " (17218, 69): <gurobi.Constr *Awaiting Model Update*>,\n",
       " (17359, 69): <gurobi.Constr *Awaiting Model Update*>,\n",
       " (17372, 69): <gurobi.Constr *Awaiting Model Update*>,\n",
       " (17395, 69): <gurobi.Constr *Awaiting Model Update*>,\n",
       " (17404, 69): <gurobi.Constr *Awaiting Model Update*>,\n",
       " (17447, 69): <gurobi.Constr *Awaiting Model Update*>,\n",
       " (17466, 69): <gurobi.Constr *Awaiting Model Update*>,\n",
       " (17507, 69): <gurobi.Constr *Awaiting Model Update*>,\n",
       " (17592, 69): <gurobi.Constr *Awaiting Model Update*>,\n",
       " (17620, 69): <gurobi.Constr *Awaiting Model Update*>,\n",
       " (17679, 69): <gurobi.Constr *Awaiting Model Update*>,\n",
       " (17717, 69): <gurobi.Constr *Awaiting Model Update*>,\n",
       " (17784, 69): <gurobi.Constr *Awaiting Model Update*>,\n",
       " (17792, 69): <gurobi.Constr *Awaiting Model Update*>,\n",
       " (17822, 69): <gurobi.Constr *Awaiting Model Update*>,\n",
       " (17829, 69): <gurobi.Constr *Awaiting Model Update*>,\n",
       " (17896, 69): <gurobi.Constr *Awaiting Model Update*>,\n",
       " (17931, 69): <gurobi.Constr *Awaiting Model Update*>,\n",
       " (17934, 69): <gurobi.Constr *Awaiting Model Update*>,\n",
       " (17942, 69): <gurobi.Constr *Awaiting Model Update*>,\n",
       " (17943, 69): <gurobi.Constr *Awaiting Model Update*>,\n",
       " (17945, 69): <gurobi.Constr *Awaiting Model Update*>,\n",
       " (17952, 69): <gurobi.Constr *Awaiting Model Update*>,\n",
       " (18029, 69): <gurobi.Constr *Awaiting Model Update*>,\n",
       " (18042, 69): <gurobi.Constr *Awaiting Model Update*>,\n",
       " (18063, 69): <gurobi.Constr *Awaiting Model Update*>,\n",
       " (18082, 69): <gurobi.Constr *Awaiting Model Update*>,\n",
       " (18127, 69): <gurobi.Constr *Awaiting Model Update*>,\n",
       " (18286, 69): <gurobi.Constr *Awaiting Model Update*>,\n",
       " (18288, 69): <gurobi.Constr *Awaiting Model Update*>,\n",
       " (18294, 69): <gurobi.Constr *Awaiting Model Update*>,\n",
       " (18303, 69): <gurobi.Constr *Awaiting Model Update*>}"
      ]
     },
     "execution_count": 92,
     "metadata": {},
     "output_type": "execute_result"
    }
   ],
   "source": [
    "# new set: third party supply locations\n",
    "third_party = {\n",
    "    69: {\n",
    "        \"supply\": float(\"inf\"),\n",
    "    }\n",
    "}\n",
    "\n",
    "m = gp.Model(\"SupplyChain3\")\n",
    "\n",
    "unit_cost_third_party = 2000\n",
    "\n",
    "build_plant = m.addVars(plants, vtype=GRB.BINARY, name=\"build_plant\")\n",
    "build_hub = m.addVars(hubs, vtype=GRB.BINARY, name=\"build_hub\")\n",
    "\n",
    "trucks = m.addVars(suppliers, hubs, vtype=GRB.INTEGER, name=\"trucks\")\n",
    "trains = m.addVars(hubs, plants, vtype=GRB.INTEGER, name=\"trains\")\n",
    "\n",
    "biomass_s_h = m.addVars(suppliers, hubs, name=\"biomass_s_h\")\n",
    "biomass_h_p = m.addVars(hubs, plants, name=\"biomass_h_p\")\n",
    "third_party_biomass = m.addVars(third_party, hubs, name=\"third_party_biomass\")\n",
    "\n",
    "truck_L, truck_U = 5000, 5000\n",
    "train_L, train_U = 30_000, 30_000\n",
    "third_party_unit_cost = 2000\n",
    "\n",
    "m.setObjective(\n",
    "    gp.quicksum(\n",
    "        plants[p][\"plant_cost\"] * build_plant[p]\n",
    "        for p in plants\n",
    "    )\n",
    "    + gp.quicksum(\n",
    "        hubs[h][\"hub_cost\"] * build_hub[h]\n",
    "        for h in hubs\n",
    "    )\n",
    "    + gp.quicksum(\n",
    "        unit_cost_s_h[s, h] * biomass_s_h[s, h] * dist_s_h[s, h] \n",
    "                        + ((truck_L + truck_U) * trucks[s, h])\n",
    "        for s in suppliers\n",
    "        for h in hubs\n",
    "    )\n",
    "    + gp.quicksum(\n",
    "        unit_cost_h_p[h, p] * biomass_h_p[h, p] * dist_h_p[h, p] \n",
    "                          + ((train_L + train_U) * trains[h, p])\n",
    "        for h in hubs\n",
    "        for p in plants\n",
    "    )\n",
    "    + gp.quicksum(\n",
    "        unit_cost_third_party * third_party_biomass[t, h]\n",
    "        for t in third_party\n",
    "        for h in hubs\n",
    "    ),\n",
    "    GRB.MINIMIZE,\n",
    ")\n",
    "\n",
    "PRODUCTION = 800_000_000\n",
    "\n",
    "m.addConstrs(\n",
    "    (\n",
    "        gp.quicksum(\n",
    "            biomass_s_h[s, h] * build_hub[h] for h in hubs\n",
    "            ) <= suppliers[s][\"supply\"]\n",
    "        for s in suppliers\n",
    "    ),\n",
    "    name=\"supply\",\n",
    ")\n",
    "\n",
    "m.addConstr(\n",
    "    gp.quicksum(\n",
    "        biomass_h_p[h, p] * plants[p][\"yield_per_unit\"]\n",
    "                for h in hubs \n",
    "                for p in plants\n",
    "        ) >= PRODUCTION,\n",
    "    name=\"production\",\n",
    ")\n",
    "\n",
    "m.addConstrs(\n",
    "    (\n",
    "        biomass_s_h[s, h] <= trucks[s, h] * truck_cap_s_h[s, h]\n",
    "        for s in suppliers\n",
    "        for h in hubs\n",
    "    ),\n",
    "    name=\"trucks\",\n",
    ")\n",
    "\n",
    "m.addConstrs(\n",
    "    (\n",
    "        biomass_h_p[h, p] <= trains[h, p] * train_cap_h_p[h, p]\n",
    "        for h in hubs\n",
    "        for p in plants\n",
    "    ),\n",
    "    name=\"trains\",\n",
    ")\n",
    "\n",
    "m.addConstrs(\n",
    "    (\n",
    "        gp.quicksum(biomass_s_h[s, h] for s in suppliers) \n",
    "        + third_party_biomass[t, h]\n",
    "        <= hubs[h][\"hub_cap\"] * build_hub[h]\n",
    "        for h in hubs\n",
    "        for t in third_party\n",
    "    ),\n",
    "    name=\"hub_capacity\",\n",
    ")\n",
    "\n",
    "m.addConstrs(\n",
    "    (\n",
    "        gp.quicksum(biomass_h_p[h, p] for h in hubs) <= plants[p][\"plant_cap\"] * build_plant[p]\n",
    "        for p in plants\n",
    "    ),\n",
    "    name=\"plant_capacity\",\n",
    ")\n",
    "\n",
    "m.addConstrs(\n",
    "    (\n",
    "        gp.quicksum(biomass_s_h[s, h] for s in suppliers) \n",
    "        + gp.quicksum(third_party_biomass[t, h] for t in third_party)\n",
    "        == gp.quicksum(biomass_h_p[h, p] for p in plants)\n",
    "        for h in hubs\n",
    "        for t in third_party\n",
    "    ),\n",
    "    name=\"balance_flow\",\n",
    ")\n",
    "\n",
    "m.setParam(\"OutputFlag\", 0)"
   ]
  },
  {
   "cell_type": "code",
   "execution_count": 93,
   "metadata": {},
   "outputs": [
    {
     "name": "stdout",
     "output_type": "stream",
     "text": [
      "Gurobi Optimizer version 10.0.3 build v10.0.3rc0 (mac64[arm])\n",
      "\n",
      "CPU model: Apple M1\n",
      "Thread count: 8 physical cores, 8 logical processors, using up to 8 threads\n",
      "\n",
      "Optimize a model with 14127 rows, 28019 columns and 61349 nonzeros\n",
      "Model fingerprint: 0x903a1060\n",
      "Model has 254 quadratic constraints\n",
      "Variable types: 13926 continuous, 14093 integer (200 binary)\n",
      "Coefficient statistics:\n",
      "  Matrix range     [1e+00, 2e+08]\n",
      "  QMatrix range    [1e+00, 1e+00]\n",
      "  Objective range  [8e+00, 1e+08]\n",
      "  Bounds range     [1e+00, 1e+00]\n",
      "  RHS range        [8e+08, 8e+08]\n",
      "  QRHS range       [8e-01, 5e+04]\n",
      "Warning: Model contains large matrix coefficients\n",
      "         Consider reformulating model or setting NumericFocus parameter\n",
      "         to avoid numerical issues.\n",
      "Presolve time: 0.05s\n",
      "Presolved: 22763 rows, 36401 columns, 94877 nonzeros\n",
      "Variable types: 22308 continuous, 14093 integer (200 binary)\n",
      "Found heuristic solution: objective 7.978673e+09\n",
      "\n",
      "Root relaxation: objective 6.815958e+09, 489 iterations, 0.01 seconds (0.01 work units)\n",
      "\n",
      "    Nodes    |    Current Node    |     Objective Bounds      |     Work\n",
      " Expl Unexpl |  Obj  Depth IntInf | Incumbent    BestBd   Gap | It/Node Time\n",
      "\n",
      "     0     0 6.8160e+09    0  125 7.9787e+09 6.8160e+09  14.6%     -    0s\n",
      "H    0     0                    7.888001e+09 6.8160e+09  13.6%     -    0s\n",
      "H    0     0                    7.645375e+09 6.8160e+09  10.8%     -    0s\n",
      "     0     0 6.9630e+09    0   73 7.6454e+09 6.9630e+09  8.93%     -    0s\n",
      "H    0     0                    7.281147e+09 6.9630e+09  4.37%     -    0s\n",
      "H    0     0                    7.184709e+09 6.9630e+09  3.09%     -    0s\n",
      "     0     0 6.9651e+09    0   64 7.1847e+09 6.9651e+09  3.06%     -    0s\n",
      "     0     0 7.0022e+09    0   64 7.1847e+09 7.0022e+09  2.54%     -    0s\n",
      "     0     0 7.0090e+09    0   60 7.1847e+09 7.0090e+09  2.45%     -    0s\n",
      "     0     0 7.0090e+09    0   57 7.1847e+09 7.0090e+09  2.45%     -    0s\n",
      "     0     0 7.0090e+09    0   57 7.1847e+09 7.0090e+09  2.45%     -    0s\n",
      "     0     0 7.0527e+09    0   72 7.1847e+09 7.0527e+09  1.84%     -    0s\n",
      "     0     0 7.0657e+09    0   79 7.1847e+09 7.0657e+09  1.66%     -    0s\n",
      "     0     0 7.0762e+09    0   81 7.1847e+09 7.0762e+09  1.51%     -    0s\n",
      "     0     0 7.0766e+09    0   84 7.1847e+09 7.0766e+09  1.51%     -    0s\n",
      "     0     0 7.1029e+09    0  117 7.1847e+09 7.1029e+09  1.14%     -    0s\n",
      "     0     0 7.1029e+09    0  120 7.1847e+09 7.1029e+09  1.14%     -    0s\n",
      "     0     0 7.1029e+09    0   94 7.1847e+09 7.1029e+09  1.14%     -    0s\n",
      "     0     0 7.1029e+09    0   79 7.1847e+09 7.1029e+09  1.14%     -    0s\n",
      "     0     0 7.1029e+09    0   81 7.1847e+09 7.1029e+09  1.14%     -    0s\n",
      "     0     0 7.1029e+09    0   97 7.1847e+09 7.1029e+09  1.14%     -    0s\n",
      "     0     0 7.1029e+09    0  111 7.1847e+09 7.1029e+09  1.14%     -    0s\n",
      "     0     0 7.1031e+09    0   99 7.1847e+09 7.1031e+09  1.14%     -    0s\n",
      "     0     0 7.1034e+09    0  109 7.1847e+09 7.1034e+09  1.13%     -    0s\n",
      "H    0     0                    7.168766e+09 7.1034e+09  0.91%     -    0s\n",
      "H    0     0                    7.168706e+09 7.1034e+09  0.91%     -    1s\n",
      "H    0     0                    7.168702e+09 7.1034e+09  0.91%     -    1s\n",
      "H    0     0                    7.168699e+09 7.1034e+09  0.91%     -    1s\n",
      "H    0     0                    7.168640e+09 7.1034e+09  0.91%     -    1s\n",
      "     0     0 7.1122e+09    0   98 7.1686e+09 7.1122e+09  0.79%     -    1s\n",
      "H    0     0                    7.148354e+09 7.1122e+09  0.51%     -    1s\n",
      "H    0     0                    7.148018e+09 7.1122e+09  0.50%     -    1s\n",
      "H    0     0                    7.147958e+09 7.1122e+09  0.50%     -    1s\n",
      "H    0     0                    7.147954e+09 7.1122e+09  0.50%     -    1s\n",
      "     0     0 7.1130e+09    0   92 7.1480e+09 7.1130e+09  0.49%     -    1s\n",
      "     0     0 7.1222e+09    0  114 7.1480e+09 7.1222e+09  0.36%     -    1s\n",
      "     0     0 7.1222e+09    0  111 7.1480e+09 7.1222e+09  0.36%     -    1s\n",
      "     0     0 7.1222e+09    0   89 7.1480e+09 7.1222e+09  0.36%     -    1s\n",
      "     0     0 7.1222e+09    0   86 7.1480e+09 7.1222e+09  0.36%     -    1s\n",
      "     0     0 7.1222e+09    0  103 7.1480e+09 7.1222e+09  0.36%     -    1s\n",
      "     0     0 7.1231e+09    0  110 7.1480e+09 7.1231e+09  0.35%     -    1s\n",
      "     0     0 7.1267e+09    0  141 7.1480e+09 7.1267e+09  0.30%     -    1s\n",
      "     0     0 7.1269e+09    0  117 7.1480e+09 7.1269e+09  0.30%     -    1s\n",
      "     0     0 7.1279e+09    0  149 7.1480e+09 7.1279e+09  0.28%     -    1s\n",
      "     0     0 7.1280e+09    0   20 7.1480e+09 7.1280e+09  0.28%     -    1s\n",
      "H    0     0                    7.147159e+09 7.1280e+09  0.27%     -    1s\n",
      "     0     0 7.1280e+09    0  134 7.1472e+09 7.1280e+09  0.27%     -    1s\n",
      "     0     0 7.1280e+09    0  132 7.1472e+09 7.1280e+09  0.27%     -    1s\n",
      "H    0     0                    7.144760e+09 7.1280e+09  0.23%     -    1s\n",
      "H    0     0                    7.144757e+09 7.1280e+09  0.23%     -    1s\n",
      "     0     0 7.1280e+09    0  111 7.1448e+09 7.1280e+09  0.23%     -    1s\n",
      "     0     0 7.1280e+09    0   88 7.1448e+09 7.1280e+09  0.23%     -    1s\n",
      "     0     0 7.1280e+09    0  113 7.1448e+09 7.1280e+09  0.23%     -    1s\n",
      "     0     0 7.1280e+09    0  104 7.1448e+09 7.1280e+09  0.23%     -    1s\n",
      "     0     0 7.1280e+09    0  127 7.1448e+09 7.1280e+09  0.23%     -    1s\n",
      "     0     0 7.1280e+09    0  121 7.1448e+09 7.1280e+09  0.23%     -    1s\n",
      "     0     0 7.1280e+09    0  121 7.1448e+09 7.1280e+09  0.23%     -    1s\n",
      "     0     0 7.1280e+09    0  121 7.1448e+09 7.1280e+09  0.23%     -    1s\n",
      "     0     2 7.1280e+09    0  121 7.1448e+09 7.1280e+09  0.23%     -    1s\n",
      "H    6     5                    7.140034e+09 7.1311e+09  0.13%   245    1s\n",
      "H   22     8                    7.139974e+09 7.1390e+09  0.01%   127    1s\n",
      "H   34    15                    7.139973e+09 7.1393e+09  0.01%  83.7    1s\n",
      "\n",
      "Cutting planes:\n",
      "  Gomory: 9\n",
      "  Lift-and-project: 3\n",
      "  Implied bound: 1\n",
      "  MIR: 108\n",
      "  Flow cover: 18\n",
      "  Flow path: 36\n",
      "  Relax-and-lift: 8\n",
      "\n",
      "Explored 41 nodes (10658 simplex iterations) in 1.93 seconds (1.73 work units)\n",
      "Thread count was 8 (of 8 available processors)\n",
      "\n",
      "Solution count 10: 7.13997e+09 7.13997e+09 7.14003e+09 ... 7.14835e+09\n",
      "\n",
      "Optimal solution found (tolerance 1.00e-04)\n",
      "Best objective 7.139972964323e+09, best bound 7.139542283124e+09, gap 0.0060%\n"
     ]
    }
   ],
   "source": [
    "m.optimize()\n",
    "gp.setParam(\"OutputFlag\", 1)\n"
   ]
  },
  {
   "cell_type": "code",
   "execution_count": 95,
   "metadata": {},
   "outputs": [
    {
     "name": "stdout",
     "output_type": "stream",
     "text": [
      "RESULTS\n",
      "\n",
      " (6) Plants: [9044, 9047, 9178, 9183, 9203, 10066]\n",
      "(18)   Hubs: [17201, 17218, 17359, 17447, 17507, 17592, 17679, 17792, 17829]\n",
      "\t     [17896, 17934, 17943, 18029, 18042, 18082, 18286, 18288, 18294]\n",
      "Total biomass sh: 1,401,295 Mg\n",
      "Total biomass hp: 3,448,276 Mg\n",
      "Total biomass third: 2,046,981 Mg\n",
      "Trucks needed: 8382\n",
      "Trains needed: 5511\n",
      "Total cost: $7,139,972,964.32\n"
     ]
    }
   ],
   "source": [
    "plants_locations = [p for p in plants if build_plant[p].x == 1]\n",
    "hubs_locations = [h for h in hubs if build_hub[h].x == 1]\n",
    "\n",
    "total_biomass_s_h = sum(biomass_s_h[s, h].x for s in suppliers for h in hubs)\n",
    "total_biomass_s_h = f\"{total_biomass_s_h:,.0f}\"\n",
    "\n",
    "total_biomass_h_p = sum(biomass_h_p[h, p].x for h in hubs for p in plants)\n",
    "total_biomass_h_p = f\"{total_biomass_h_p:,.0f}\"\n",
    "\n",
    "total_biomass_third_party = sum(third_party_biomass[t, h].x for t in third_party for h in hubs)\n",
    "total_biomass_third_party = f\"{total_biomass_third_party:,.0f}\"\n",
    "\n",
    "print(\"RESULTS\\n\")\n",
    "print(f\" ({len(plants_locations)}) Plants: {plants_locations}\")\n",
    "print(f\"({len(hubs_locations)})   Hubs: {hubs_locations[:9]}\")\n",
    "print(f\"\\t     {hubs_locations[9:]}\")\n",
    "print(f\"Total biomass sh: {total_biomass_s_h} Mg\")\n",
    "print(f\"Total biomass hp: {total_biomass_h_p} Mg\")\n",
    "print(f\"Total biomass third: {total_biomass_third_party} Mg\")\n",
    "\n",
    "print(f\"Trucks needed: {len(trucks.keys())}\")\n",
    "print(f\"Trains needed: {len(trains.keys())}\")\n",
    "print(f\"Total cost: ${m.objVal:,.2f}\")\n"
   ]
  },
  {
   "cell_type": "code",
   "execution_count": null,
   "metadata": {},
   "outputs": [],
   "source": []
  }
 ],
 "metadata": {
  "kernelspec": {
   "display_name": "obb",
   "language": "python",
   "name": "python3"
  },
  "language_info": {
   "codemirror_mode": {
    "name": "ipython",
    "version": 3
   },
   "file_extension": ".py",
   "mimetype": "text/x-python",
   "name": "python",
   "nbconvert_exporter": "python",
   "pygments_lexer": "ipython3",
   "version": "3.9.13"
  },
  "orig_nbformat": 4
 },
 "nbformat": 4,
 "nbformat_minor": 2
}
