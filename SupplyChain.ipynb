{
 "cells": [
  {
   "cell_type": "markdown",
   "metadata": {},
   "source": [
    "# Mandatory Assignment\n",
    "\n",
    "### Torger Bocianowski\n",
    "\n",
    "## Task 1"
   ]
  },
  {
   "cell_type": "markdown",
   "metadata": {},
   "source": [
    "### Sets\n",
    "\n",
    "$S=$ suppliers\n",
    "\n",
    "$P=$ plants"
   ]
  },
  {
   "cell_type": "markdown",
   "metadata": {},
   "source": [
    "### Parameters\n",
    "\n",
    "$Sup_s=$ the supply for a supplier $s$.\n",
    "\n",
    "$y_p=$ the yield per unit at a plant $p$.\n",
    "\n",
    "$O_p=$ constant opening cost of a plant $p$.\n",
    "\n",
    "$u_{sp}=$ unit cost from supplier $s$ to plant $p$.\n",
    "\n",
    "$d_{sp}=$ distance driven (km) from supplier $s$ to plant $p$ by truck.\n",
    "\n",
    "$C_t=$ truck loading / unloading cost ($\\$10,000$)\n",
    "\n",
    "$CapT_t=$ truck $t$'s capacity\n",
    "\n",
    "$CapP_p=$ capacity at plant $p$."
   ]
  },
  {
   "cell_type": "markdown",
   "metadata": {},
   "source": [
    "### Decision Variables\n",
    "\n",
    "$b_p\\in\\{0,1\\}=$ binary variable, whether a plant at location $p$ should be built or not.\n",
    "\n",
    "$x_{sp}=$ tons of biomass transported from supplier $s$ to plant $p$.\n",
    "\n",
    "$t_{sp}\\in\\mathbb{Z}=$ integer variable, the number of trucks used from supplier to plant."
   ]
  },
  {
   "cell_type": "markdown",
   "metadata": {},
   "source": [
    "### Formulating the Objective Function & Constraints\n",
    "\n",
    "_minimize Cost_: $\\sum_{p\\in P} O_pb_p$\n",
    "\n",
    "$\\hspace{4.9em}+\\sum_{s\\in S}\\sum_{p\\in P}(u_{sp}x_{sp}d_{sp}+C_tt_{sp})$\n",
    "\n",
    "<br></br>\n",
    "\n",
    "$\\hspace{0.25em}$ _subject to_: $\\space\\sum_{p\\in P}x_{sp}\\cdot b_p\\leq Sup_s\\hspace{5em}\\forall s\\in S\\hspace{5.9em}$ (Supply)\n",
    "\n",
    "$\\hspace{5em}\\sum_{s\\in S}\\sum_{p\\in P}x_{sp}\\cdot y_p\\leq500,000,000\\hspace{7.9em}$ (Demand)\n",
    "\n",
    "$\\hspace{5em} x_{sp}\\leq t_{sp}\\cdot CapT_{sp}\\hspace{6.5em}\\forall s\\in S,\\forall p\\in P\\hspace{2.2em}$ (Number of trucks)\n",
    "\n",
    "$\\hspace{5em} \\sum_{s\\in S}x_{sp}\\leq CapP_p\\hspace{6em}\\forall p\\in P\\hspace{5.6em}$ (Plant capacity)\n",
    "\n",
    "<br></br>\n",
    "\n",
    "### Programming"
   ]
  },
  {
   "cell_type": "code",
   "execution_count": 1,
   "metadata": {},
   "outputs": [
    {
     "name": "stdout",
     "output_type": "stream",
     "text": [
      "Set parameter Username\n",
      "Academic license - for non-commercial use only - expires 2024-10-24\n"
     ]
    }
   ],
   "source": [
    "import pandas as pd\n",
    "import gurobipy as gp\n",
    "from gurobipy import GRB\n",
    "\n",
    "gp.setParam(\"OutputFlag\", 0)\n",
    "\n",
    "# Dataframes\n",
    "suppliers_df = pd.read_csv(\"data/suppliers.csv\")\n",
    "plants_df = pd.read_csv(\"data/plants.csv\")\n",
    "roads_df = pd.read_csv(\"data/roads_s_p.csv\")"
   ]
  },
  {
   "cell_type": "markdown",
   "metadata": {},
   "source": [
    "### Sets"
   ]
  },
  {
   "cell_type": "code",
   "execution_count": 2,
   "metadata": {},
   "outputs": [],
   "source": [
    "suppliers = suppliers_df.set_index(\"supplier\")\n",
    "suppliers = suppliers.to_dict(orient=\"index\")\n",
    "\n",
    "plants = plants_df.set_index(\"plant\")\n",
    "plants = plants.to_dict(orient=\"index\")"
   ]
  },
  {
   "cell_type": "markdown",
   "metadata": {},
   "source": [
    "### Defining the Model"
   ]
  },
  {
   "cell_type": "code",
   "execution_count": 3,
   "metadata": {},
   "outputs": [],
   "source": [
    "m = gp.Model(\"SupplyChain\")"
   ]
  },
  {
   "cell_type": "markdown",
   "metadata": {},
   "source": [
    "### Parameters"
   ]
  },
  {
   "cell_type": "code",
   "execution_count": 4,
   "metadata": {},
   "outputs": [],
   "source": [
    "def sp_param(df: pd.DataFrame, param: str) -> dict:\n",
    "    df = df[[\"supplier\", \"plant\", param]]\n",
    "    df = df.set_index([\"supplier\", \"plant\"])\n",
    "    df = df.to_dict(orient=\"index\")\n",
    "    return {(s, p): df[s, p][param] for s in suppliers for p in plants}\n",
    "\n",
    "dist_s_p = sp_param(roads_df, \"dist_s_p\")\n",
    "unit_cost_s_p = sp_param(roads_df, \"cost_per_unit_s_p\")\n",
    "truck_cost_s_p = sp_param(roads_df, \"truck_cost_s_p\")\n",
    "truck_cap_s_p = sp_param(roads_df, \"truck_cap_s_p\")"
   ]
  },
  {
   "cell_type": "markdown",
   "metadata": {},
   "source": [
    "### Decision Variables"
   ]
  },
  {
   "cell_type": "code",
   "execution_count": 5,
   "metadata": {},
   "outputs": [],
   "source": [
    "build = m.addVars(plants, vtype=GRB.BINARY, name=\"build\")\n",
    "biomass = m.addVars(suppliers, plants, name=\"biomass\")\n",
    "num_trucks = m.addVars(suppliers, plants, vtype=GRB.INTEGER, name=\"trucks\")"
   ]
  },
  {
   "cell_type": "markdown",
   "metadata": {},
   "source": [
    "### Objective Function"
   ]
  },
  {
   "cell_type": "code",
   "execution_count": 6,
   "metadata": {},
   "outputs": [],
   "source": [
    "m.setObjective(\n",
    "    gp.quicksum(\n",
    "        plants[p][\"plant_cost\"] * build[p]\n",
    "        for p in plants\n",
    "    )\n",
    "    + gp.quicksum(\n",
    "        unit_cost_s_p[s, p] * biomass[s, p] * dist_s_p[s, p]\n",
    "                            + (truck_cost_s_p[s, p] * num_trucks[s, p])\n",
    "        for s in suppliers\n",
    "        for p in plants\n",
    "    ), \n",
    "    GRB.MINIMIZE,\n",
    ")"
   ]
  },
  {
   "cell_type": "markdown",
   "metadata": {},
   "source": [
    "### Constraints"
   ]
  },
  {
   "cell_type": "code",
   "execution_count": 7,
   "metadata": {},
   "outputs": [],
   "source": [
    "DEMAND = 500_000_000\n",
    "\n",
    "m.addConstrs(\n",
    "    (\n",
    "        gp.quicksum(\n",
    "            biomass[s, p] for p in plants\n",
    "        ) <= suppliers[s][\"supply\"]\n",
    "        for s in suppliers\n",
    "    ),\n",
    "    name=\"supply\",\n",
    ")\n",
    "\n",
    "m.addConstr(\n",
    "    (\n",
    "        gp.quicksum(\n",
    "            biomass[s, p] * plants[p][\"yield_per_unit\"]\n",
    "                    for s in suppliers \n",
    "                    for p in plants\n",
    "        ) >= DEMAND\n",
    "    ),\n",
    "    name=\"demand\",\n",
    ")\n",
    "\n",
    "m.addConstrs(\n",
    "    (\n",
    "        gp.quicksum(\n",
    "            biomass[s, p] for s in suppliers\n",
    "        ) <= plants[p][\"plant_cap\"] * build[p]\n",
    "        for p in plants\n",
    "    ),\n",
    "    name=\"plant_cap\",\n",
    ")\n",
    "\n",
    "m.addConstrs(\n",
    "    (\n",
    "        biomass[s, p] <= num_trucks[s, p] * truck_cap_s_p[s, p]\n",
    "        for s in suppliers\n",
    "        for p in plants\n",
    "    ),\n",
    "    name=\"num_trucks\",\n",
    ")\n",
    "\n",
    "gp.setParam(\"OutputFlag\", 0)"
   ]
  },
  {
   "cell_type": "markdown",
   "metadata": {},
   "source": [
    "### Solving the Model"
   ]
  },
  {
   "cell_type": "code",
   "execution_count": 8,
   "metadata": {},
   "outputs": [],
   "source": [
    "m.optimize()"
   ]
  },
  {
   "cell_type": "code",
   "execution_count": 9,
   "metadata": {},
   "outputs": [
    {
     "name": "stdout",
     "output_type": "stream",
     "text": [
      "RESULTS\n",
      "\n",
      "(11) Plants: [541, 9063, 9076, 9102, 9107, 9155]\n",
      "\t     [9178, 9183, 9203, 10058, 10066]\n",
      "\n",
      "Total biomass: 2,155,172 Mg\n",
      "Trucks needed: 4372.0\n",
      "\n",
      "Total cost: $8,501,427,753\n"
     ]
    }
   ],
   "source": [
    "locations = [p for p in plants if build[p].x == 1]\n",
    "total_biomass = sum(biomass[s, p].x for s in suppliers for p in plants)\n",
    "total_num_trucks = sum(num_trucks[s, p].x for s in suppliers for p in plants)\n",
    "\n",
    "print(\"RESULTS\\n\")\n",
    "print(f\"({len(locations)}) Plants: {locations[:6]}\")\n",
    "print(f\"\\t     {locations[6:]}\\n\")\n",
    "print(f\"Total biomass: {total_biomass:,.0f} Mg\")\n",
    "print(f\"Trucks needed: {total_num_trucks}\")\n",
    "print(f\"\\nTotal cost: ${m.objVal:,.0f}\")\n"
   ]
  },
  {
   "cell_type": "markdown",
   "metadata": {},
   "source": [
    "### Interpreting the Results\n",
    "\n",
    "As shown above, \n",
    "- there are **11 locations** at which we want to **build plants**, \n",
    "- we need **4374 trucks** to transport **~2.155Mg** biomass and \n",
    "- the **total cost** is **~8.5 billion** dollars"
   ]
  },
  {
   "cell_type": "markdown",
   "metadata": {},
   "source": [
    "## Task 2"
   ]
  },
  {
   "cell_type": "markdown",
   "metadata": {},
   "source": [
    "### Sets\n",
    "$S=$ suppliers\n",
    "\n",
    "$H=$ hubs\n",
    "\n",
    "$P=$ plants"
   ]
  },
  {
   "cell_type": "markdown",
   "metadata": {},
   "source": [
    "### Parameters\n",
    "\n",
    "$Sup_s=$ the supply for a supplier $s$.\n",
    "\n",
    "$y_p=$ the yield per unit at a plant $p$.\n",
    "\n",
    "$O_h=$ constant opening cost of a hub $h$.\n",
    "\n",
    "$O_p=$ constant opening cost of a plant $p$.\n",
    "\n",
    "$u_{sh}=$ unit cost from supplier $s$ to hub $h$.\n",
    "\n",
    "$u_{hp}=$ unit cost from hub $h$ to plant $p$.\n",
    "\n",
    "$d_{sh}=$ distance driven (km) from supplier $s$ to hub $h$ by truck.\n",
    "\n",
    "$d_{hp}=$ distance driven (km) from hub $h$ to plant $p$ by train.\n",
    "\n",
    "$C_t=$ truck loading / unloading cost ($\\$10,000$)\n",
    "\n",
    "$C_r=$ train loading / unloading cost ($\\$60,000$)\n",
    "\n",
    "$CapT_t=$ truck $t$'s capacity\n",
    "\n",
    "$CapR_r=$ train $r$'s capacity\n",
    "\n",
    "$CapH_h=$ capacity at hub $h$.\n",
    "\n",
    "$CapP_p=$ capacity at plant $p$."
   ]
  },
  {
   "cell_type": "markdown",
   "metadata": {},
   "source": [
    "### Decision Variables\n",
    "\n",
    "$b_h\\in\\{0,1\\}=$ binary variable, whether a hub at location $h$ should be built or not.\n",
    "\n",
    "$b_p\\in\\{0,1\\}=$ binary variable, whether a plant at location $p$ should be built or not.\n",
    "\n",
    "$x_{sh}=$ tons of biomass transported from supplier $s$ to hub $h$.\n",
    "\n",
    "$x_{hp}=$ tons of biomass transported from hub $h$ to plant $p$.\n",
    "\n",
    "$t_{sh}\\in\\mathbb{Z}=$ integer variable, the number of trucks to be used from supplier to hub.\n",
    "\n",
    "$r_{hp}\\in\\mathbb{Z}=$ integer variable, the number of trains to be used from hub to plant."
   ]
  },
  {
   "cell_type": "markdown",
   "metadata": {},
   "source": [
    "### Formulating the Objective Function & Constraints\n",
    "\n",
    "_minimize Cost_: $\\sum_{h\\in H} O_h\\cdot b_h$\n",
    "\n",
    "$\\hspace{4.9em}+\\sum_{p\\in P} O_p\\cdot b_p$\n",
    "\n",
    "$\\hspace{4.9em}+\\sum_{s\\in S}\\sum_{h\\in H}(u_{sh}x_{sh}d_{sh})+C_tt_{sh}$\n",
    "\n",
    "$\\hspace{4.9em}+\\sum_{h\\in H}\\sum_{p\\in P}(u_{hp}x_{hp}d_{hp})+C_rr_{hp}$\n",
    "\n",
    "<br></br>\n",
    "\n",
    "$\\hspace{0.25em}$ _subject to_: $\\space\\sum_{h\\in H}x_{sh}\\cdot b_h\\leq Sup_s\\hspace{5em}\\forall s\\in S\\hspace{5.9em}$ (Supply)\n",
    "\n",
    "$\\hspace{5em}\\sum_{h\\in H}\\sum_{p\\in P}x_{hp}\\cdot y_p\\leq500,000,000\\hspace{7.9em}$ (Demand)\n",
    "\n",
    "$\\hspace{5em} x_{sh}\\leq t_{sh}\\cdot CapT_{sh}\\hspace{6.5em}\\forall s\\in S,\\forall p\\in P\\hspace{2.3em}$ (Number of trucks)\n",
    "\n",
    "$\\hspace{5em} x_{hp}\\leq r_{hp}\\cdot CapR_{hp}\\hspace{6.2em}\\forall h\\in H,\\forall p\\in P\\hspace{1.9em}$ (Number of trains)\n",
    "\n",
    "$\\hspace{5em} \\sum_{s\\in S}x_{sh}\\leq CapH_p\\hspace{6em}\\forall h\\in H\\hspace{5.4em}$ (Hub capacity)\n",
    "\n",
    "$\\hspace{5em} \\sum_{h\\in H}x_{hp}\\leq CapP_p\\hspace{5.9em}\\forall p\\in P\\hspace{5.6em}$ (Plant capacity)\n",
    "\n",
    "$\\hspace{5em} \\sum_{s\\in S}x_{sh}=\\sum_{p\\in P}x_{hp}\\hspace{5em}\\forall h\\in H\\hspace{5.4em}$ (Flow balance)\n",
    "\n",
    "<br></br>"
   ]
  },
  {
   "cell_type": "markdown",
   "metadata": {},
   "source": [
    "### Programming\n",
    "\n",
    "### Sets\n",
    "\n",
    "We add a new set hubs. The sets suppliers and plants remain the same from the previous task."
   ]
  },
  {
   "cell_type": "code",
   "execution_count": 10,
   "metadata": {},
   "outputs": [],
   "source": [
    "# Dataframes\n",
    "hubs_df = pd.read_csv(\"data/hubs.csv\")\n",
    "railroads_df = pd.read_csv(\"data/railroads_h_p.csv\")\n",
    "roads_df = pd.read_csv(\"data/roads_s_h.csv\")\n",
    "\n",
    "# Sets\n",
    "hubs = hubs_df.set_index(\"hub\")\n",
    "hubs = hubs.to_dict(orient=\"index\")"
   ]
  },
  {
   "cell_type": "markdown",
   "metadata": {},
   "source": [
    "### Defining the Model"
   ]
  },
  {
   "cell_type": "code",
   "execution_count": 11,
   "metadata": {},
   "outputs": [],
   "source": [
    "m = gp.Model(\"SupplyChain2\")"
   ]
  },
  {
   "cell_type": "markdown",
   "metadata": {},
   "source": [
    "### Parameters"
   ]
  },
  {
   "cell_type": "code",
   "execution_count": 12,
   "metadata": {},
   "outputs": [],
   "source": [
    "# Helper functions\n",
    "def sh_param(df: pd.DataFrame, param: str) -> dict:\n",
    "    df = df[[\"supplier\", \"hub\", param]]\n",
    "    df = df.set_index([\"supplier\", \"hub\"])\n",
    "    df = df.to_dict(orient=\"index\")\n",
    "    return {(s, h): df[s, h][param] for s in suppliers for h in hubs}\n",
    "\n",
    "def hp_param(df: pd.DataFrame, param: str) -> dict:\n",
    "    df = df[[\"hub\", \"plant\", param]]\n",
    "    df = df.set_index([\"hub\", \"plant\"])\n",
    "    df = df.to_dict(orient=\"index\")\n",
    "    return {(h, p): df[h, p][param] for h in hubs for p in plants}\n",
    "\n",
    "# params from roads_s_h.csv\n",
    "dist_s_h = sh_param(roads_df, \"dist_s_h\")\n",
    "unit_cost_s_h = sh_param(roads_df, \"cost_per_unit_s_h\")\n",
    "truck_cost_s_h = sh_param(roads_df, \"truck_cost_s_h\")\n",
    "truck_cap_s_h = sh_param(roads_df, \"truck_cap_s_h\")\n",
    "\n",
    "# params from railroads_h_p.csv\n",
    "dist_h_p = hp_param(railroads_df, \"dist_h_p\")\n",
    "unit_cost_h_p = hp_param(railroads_df, \"cost_per_unit_h_p\")\n",
    "train_cost_h_p = hp_param(railroads_df, \"train_cost_h_p\")\n",
    "train_cap_h_p = hp_param(railroads_df, \"train_cap_h_p\")"
   ]
  },
  {
   "cell_type": "markdown",
   "metadata": {},
   "source": [
    "### Decision Variables"
   ]
  },
  {
   "cell_type": "code",
   "execution_count": 13,
   "metadata": {},
   "outputs": [],
   "source": [
    "build_hub = m.addVars(hubs, vtype=GRB.BINARY, name=\"build_hub\")\n",
    "build_plant = m.addVars(plants, vtype=GRB.BINARY, name=\"build_plant\")\n",
    "\n",
    "biomass_s_h = m.addVars(suppliers, hubs, name=\"biomass_s_h\")\n",
    "biomass_h_p = m.addVars(hubs, plants, name=\"biomass_h_p\")\n",
    "\n",
    "num_trucks = m.addVars(suppliers, hubs, vtype=GRB.INTEGER, name=\"trucks\")\n",
    "num_trains = m.addVars(hubs, plants, vtype=GRB.INTEGER, name=\"trains\")"
   ]
  },
  {
   "cell_type": "markdown",
   "metadata": {},
   "source": [
    "### Objective Function"
   ]
  },
  {
   "cell_type": "code",
   "execution_count": 14,
   "metadata": {},
   "outputs": [],
   "source": [
    "m.setObjective(\n",
    "    gp.quicksum(\n",
    "        hubs[h][\"hub_cost\"] * build_hub[h]\n",
    "        for h in hubs\n",
    "    )\n",
    "    + gp.quicksum(\n",
    "        plants[p][\"plant_cost\"] * build_plant[p]\n",
    "        for p in plants\n",
    "    )\n",
    "    + gp.quicksum(\n",
    "        unit_cost_s_h[s, h] * biomass_s_h[s, h] * dist_s_h[s, h] \n",
    "                        + (truck_cost_s_h[s, h] * num_trucks[s, h])\n",
    "        for s in suppliers\n",
    "        for h in hubs\n",
    "    )\n",
    "    + gp.quicksum(\n",
    "        unit_cost_h_p[h, p] * biomass_h_p[h, p] * dist_h_p[h, p] \n",
    "                          + (train_cost_h_p[h, p] * num_trains[h, p])\n",
    "        for h in hubs\n",
    "        for p in plants\n",
    "    ),\n",
    "    GRB.MINIMIZE,\n",
    ")"
   ]
  },
  {
   "cell_type": "markdown",
   "metadata": {},
   "source": [
    "### Constraints"
   ]
  },
  {
   "cell_type": "code",
   "execution_count": 15,
   "metadata": {},
   "outputs": [],
   "source": [
    "DEMAND = 500_000_000\n",
    "\n",
    "m.addConstrs(\n",
    "    (\n",
    "        gp.quicksum(\n",
    "            biomass_s_h[s, h] * build_hub[h] for h in hubs\n",
    "        ) <= suppliers[s][\"supply\"]\n",
    "        for s in suppliers\n",
    "    ),\n",
    "    name=\"supply\",\n",
    ")\n",
    "\n",
    "m.addConstr(\n",
    "    (\n",
    "        gp.quicksum(\n",
    "            biomass_h_p[h, p] * plants[p][\"yield_per_unit\"]\n",
    "                    for h in hubs \n",
    "                    for p in plants\n",
    "        ) >= DEMAND\n",
    "    ),\n",
    "    name=\"demand\",\n",
    ")\n",
    "\n",
    "m.addConstrs(\n",
    "    (\n",
    "        biomass_s_h[s, h] <= num_trucks[s, h] * truck_cap_s_h[s, h]\n",
    "        for s in suppliers\n",
    "        for h in hubs\n",
    "    ),\n",
    "    name=\"num_trucks\",\n",
    ")\n",
    "\n",
    "m.addConstrs(\n",
    "    (\n",
    "        biomass_h_p[h, p] <= num_trains[h, p] * train_cap_h_p[h, p]\n",
    "        for h in hubs\n",
    "        for p in plants\n",
    "    ),\n",
    "    name=\"num_trains\",\n",
    ")\n",
    "\n",
    "m.addConstrs(\n",
    "    (\n",
    "        gp.quicksum(\n",
    "            biomass_s_h[s, h] for s in suppliers\n",
    "        ) <= hubs[h][\"hub_cap\"] * build_hub[h]\n",
    "        for h in hubs\n",
    "    ),\n",
    "    name=\"hub_capacity\",\n",
    ")\n",
    "\n",
    "\n",
    "m.addConstrs(\n",
    "    (\n",
    "        gp.quicksum(\n",
    "            biomass_h_p[h, p] for h in hubs\n",
    "        ) <= plants[p][\"plant_cap\"] * build_plant[p]\n",
    "        for p in plants\n",
    "    ),\n",
    "    name=\"plant_capacity\",\n",
    ")\n",
    "\n",
    "m.addConstrs(\n",
    "    (\n",
    "        gp.quicksum(biomass_s_h[s, h] for s in suppliers)\n",
    "        == gp.quicksum(biomass_h_p[h, p] for p in plants)\n",
    "        for h in hubs\n",
    "    ),\n",
    "    name=\"balance_flow\",\n",
    ")\n",
    "\n",
    "gp.setParam(\"OutputFlag\", 0)"
   ]
  },
  {
   "cell_type": "markdown",
   "metadata": {},
   "source": [
    "### Solving the Model"
   ]
  },
  {
   "cell_type": "code",
   "execution_count": 16,
   "metadata": {},
   "outputs": [],
   "source": [
    "m.optimize()"
   ]
  },
  {
   "cell_type": "code",
   "execution_count": 17,
   "metadata": {},
   "outputs": [
    {
     "name": "stdout",
     "output_type": "stream",
     "text": [
      "RESULTS\n",
      "\n",
      " (8) Plants: [541, 9047, 9060, 9091, 9178, 9183, 9203, 10066]\n",
      "(31)   Hubs: [17201, 17218, 17359, 17372, 17395, 17404, 17447, 17466, 17507, 17592]\n",
      "\t     [17620, 17679, 17717, 17784, 17792, 17822, 17829, 17896, 17931, 17934]\n",
      "\t     [17942, 17943, 18029, 18042, 18063, 18082, 18127, 18286, 18288, 18294, 18303]\n",
      "\n",
      "Total biomass: 2,155,172 Mg\n",
      "Trucks needed: 4372\n",
      "Trains needed: 124\n",
      "\n",
      "Total cost: $5,135,420,807\n"
     ]
    }
   ],
   "source": [
    "plants_locations = [p for p in plants if build_plant[p].x == 1]\n",
    "hubs_locations = [h for h in hubs if build_hub[h].x == 1]\n",
    "\n",
    "total_biomass_s_h = sum(biomass_s_h[s, h].x for s in suppliers for h in hubs)\n",
    "total_biomass_h_p = sum(biomass_h_p[h, p].x for h in hubs for p in plants)\n",
    "\n",
    "total_num_trucks = sum(num_trucks[s, h].x for s in suppliers for h in hubs)\n",
    "total_num_trains = sum(num_trains[h, p].x for h in hubs for p in plants)\n",
    "\n",
    "print(\"RESULTS\\n\")\n",
    "print(f\" ({len(plants_locations)}) Plants: {plants_locations}\")\n",
    "print(f\"({len(hubs_locations)})   Hubs: {hubs_locations[:10]}\")\n",
    "print(f\"\\t     {hubs_locations[10:20]}\")\n",
    "print(f\"\\t     {hubs_locations[20:]}\\n\")\n",
    "print(f\"Total biomass: {total_biomass_s_h:,.0f} Mg\") # biomass_s_h = biomass_h_p\n",
    "\n",
    "print(f\"Trucks needed: {total_num_trucks:.0f}\")\n",
    "print(f\"Trains needed: {total_num_trains:.0f}\")\n",
    "print(f\"\\nTotal cost: ${m.objVal:,.0f}\")"
   ]
  },
  {
   "cell_type": "markdown",
   "metadata": {},
   "source": [
    "### Interpreting the Results\n",
    "\n",
    "As shown above, \n",
    "- there are **8 locations** at which we want to **build plants**, \n",
    "- there are **31 locations** at which we want to **build hubs**, \n",
    "- we need **4372 trucks** and **124** trains to transport **~2.155Mg** biomass and,\n",
    "- the **total cost** is **~5.135 billion** dollars"
   ]
  },
  {
   "cell_type": "markdown",
   "metadata": {},
   "source": [
    "## Task 3\n",
    "\n",
    "### Sets\n",
    "\n",
    "$S=$ suppliers\n",
    "\n",
    "$H=$ hubs\n",
    "\n",
    "$P=$ plants\n",
    "\n",
    "$T=$ third party suppliers"
   ]
  },
  {
   "cell_type": "markdown",
   "metadata": {},
   "source": [
    "### Parameters\n",
    "\n",
    "$Sup_s=$ the supply for a supplier $s$.\n",
    "\n",
    "$y_p=$ the yield per unit at a plant $p$.\n",
    "\n",
    "$O_h=$ constant opening cost of a hub $h$.\n",
    "\n",
    "$O_p=$ constant opening cost of a plant $p$.\n",
    "\n",
    "$u_{sh}=$ unit cost from supplier $s$ to hub $h$.\n",
    "\n",
    "$u_{hp}=$ unit cost from hub $h$ to plant $p$.\n",
    "\n",
    "$u_{th}=$ unit cost from $t$ to $h$ ($\\$2,000$).\n",
    "\n",
    "$d_{sh}=$ distance driven (km) from supplier $s$ to hub $h$ by truck.\n",
    "\n",
    "$d_{hp}=$ distance driven (km) from hub $h$ to plant $p$ by train.\n",
    "\n",
    "$C_t=$ truck loading / unloading cost ($\\$10,000$).\n",
    "\n",
    "$C_r=$ train loading / unloading cost ($\\$60,000$).\n",
    "\n",
    "$CapT_t=$ truck $t$'s capacity.\n",
    "\n",
    "$CapR_r=$ train $r$'s capacity.\n",
    "\n",
    "$CapH_h=$ capacity at hub $h$.\n",
    "\n",
    "$CapP_p=$ capacity at plant $p$."
   ]
  },
  {
   "cell_type": "markdown",
   "metadata": {},
   "source": [
    "### Decision Variables\n",
    "\n",
    "$b_h\\in\\{0,1\\}=$ binary variable, whether a hub at location $h$ should be built or not.\n",
    "\n",
    "$b_p\\in\\{0,1\\}=$ binary variable, whether a plant at location $p$ should be built or not.\n",
    "\n",
    "$x_{sh}=$ tons of biomass transported from supplier $s$ to hub $h$.\n",
    "\n",
    "$x_{hp}=$ tons of biomass transported from hub $h$ to plant $p$.\n",
    "\n",
    "$x_{th}=$ tons of biomass transported from third party location $t$ to hub $h$.\n",
    "\n",
    "$t_{sh}\\in\\mathbb{Z}=$ integer variable, the number of trucks to be used from supplier to hub.\n",
    "\n",
    "$r_{hp}\\in\\mathbb{Z}=$ integer variable, the number of trains to be used from hub to plant."
   ]
  },
  {
   "cell_type": "markdown",
   "metadata": {},
   "source": [
    "### Formulating the Objective Function & Constraints\n",
    "\n",
    "_minimize Cost_: $\\sum_p O_h\\cdot b_h$\n",
    "\n",
    "$\\hspace{4.9em}+\\sum_p O_p\\cdot b_p$\n",
    "\n",
    "$\\hspace{4.9em}+\\sum_{sh}(u_{sh}x_{sh}d_{sh})+C_tt_{sh}$\n",
    "\n",
    "$\\hspace{4.9em}+\\sum_{hp}(u_{hp}x_{hp}d_{hp})+C_rr_{hp}$\n",
    "\n",
    "$\\hspace{4.9em}+\\sum_{th}(u_{th}x_{th}d_{th})$\n",
    "\n",
    "<br></br>\n",
    "\n",
    "$\\hspace{0.25em}$ _subject to_: $\\space\\sum_{h}x_{sh}\\cdot b_h\\leq Sup_s\\hspace{5.8em}\\forall s\\in S\\hspace{4.3em}$ (Supply)\n",
    "\n",
    "$\\hspace{5em} \\sum_{hp}x_{hp}\\cdot y_p\\leq500,000,000\\hspace{9.3em}$ (Production)\n",
    "\n",
    "$\\hspace{5em} x_{sh}\\leq t_{sh}\\cdot C_{psh}\\hspace{14.6em}$ (Number of trucks)\n",
    "\n",
    "$\\hspace{5em} x_{hp}\\leq r_{hp}\\cdot C_{rhp}\\hspace{14.5em}$ (Number of trains)\n",
    "\n",
    "$\\hspace{5em} \\sum_{s}x_{sh}\\leq Cap_h\\hspace{7.2em}\\forall h\\in H\\hspace{4em}$ (Hub capacity)\n",
    "\n",
    "$\\hspace{5em} \\sum_{h}x_{hp}\\leq Cap_p\\hspace{7.2em}\\forall p\\in P\\hspace{4.1em}$ (Plant capacity)\n",
    "\n",
    "$\\hspace{5em} \\sum_{s}x_{sh}+\\sum_{t}x_{th}=\\sum_{p}x_{hp}\\hspace{2.5em}\\forall h\\in H\\hspace{4em}$ (Flow balance)\n",
    "\n",
    "<br></br>"
   ]
  },
  {
   "cell_type": "markdown",
   "metadata": {},
   "source": [
    "### Programming\n",
    "\n",
    "### Sets\n",
    "\n",
    "Adding a set (in the same format) for the third party that emulates infinite supply."
   ]
  },
  {
   "cell_type": "code",
   "execution_count": 18,
   "metadata": {},
   "outputs": [],
   "source": [
    "third_party_supplier = {\n",
    "    \"x\": {\n",
    "        \"supply\": float(\"inf\"),\n",
    "    }\n",
    "}"
   ]
  },
  {
   "cell_type": "markdown",
   "metadata": {},
   "source": [
    "### Defining the Model"
   ]
  },
  {
   "cell_type": "code",
   "execution_count": 19,
   "metadata": {},
   "outputs": [],
   "source": [
    "m = gp.Model(\"SupplyChain3\")"
   ]
  },
  {
   "cell_type": "markdown",
   "metadata": {},
   "source": [
    "### Parameters\n",
    "\n",
    "The parameters stay the same from task 2, but we need to add the unit cost of $\\$2000/Mg$"
   ]
  },
  {
   "cell_type": "code",
   "execution_count": 20,
   "metadata": {},
   "outputs": [],
   "source": [
    "unit_cost_third_party = 2000"
   ]
  },
  {
   "cell_type": "markdown",
   "metadata": {},
   "source": [
    "### Decision Variables\n",
    "\n",
    "We add a new decision variable for the biomass from the third party supplier."
   ]
  },
  {
   "cell_type": "code",
   "execution_count": 21,
   "metadata": {},
   "outputs": [],
   "source": [
    "build_plant = m.addVars(plants, vtype=GRB.BINARY, name=\"build_plant\")\n",
    "build_hub = m.addVars(hubs, vtype=GRB.BINARY, name=\"build_hub\")\n",
    "\n",
    "num_trucks = m.addVars(suppliers, hubs, vtype=GRB.INTEGER, name=\"trucks\")\n",
    "num_trains = m.addVars(hubs, plants, vtype=GRB.INTEGER, name=\"trains\")\n",
    "\n",
    "biomass_s_h = m.addVars(suppliers, hubs, name=\"biomass_s_h\")\n",
    "biomass_h_p = m.addVars(hubs, plants, name=\"biomass_h_p\")\n",
    "\n",
    "third_party_biomass = m.addVars(third_party_supplier, hubs, name=\"third_party_biomass\")"
   ]
  },
  {
   "cell_type": "markdown",
   "metadata": {},
   "source": [
    "### Objective Function"
   ]
  },
  {
   "cell_type": "code",
   "execution_count": 22,
   "metadata": {},
   "outputs": [],
   "source": [
    "m.setObjective(\n",
    "    gp.quicksum(\n",
    "        hubs[h][\"hub_cost\"] * build_hub[h]\n",
    "        for h in hubs\n",
    "    )\n",
    "    + gp.quicksum(\n",
    "        plants[p][\"plant_cost\"] * build_plant[p]\n",
    "        for p in plants\n",
    "    )\n",
    "    + gp.quicksum(\n",
    "        unit_cost_s_h[s, h] * biomass_s_h[s, h] * dist_s_h[s, h] \n",
    "                        + (truck_cost_s_h[s, h] * num_trucks[s, h])\n",
    "        for s in suppliers\n",
    "        for h in hubs\n",
    "    )\n",
    "    + gp.quicksum(\n",
    "        unit_cost_h_p[h, p] * biomass_h_p[h, p] * dist_h_p[h, p] \n",
    "                          + (train_cost_h_p[h, p] * num_trains[h, p])\n",
    "        for h in hubs\n",
    "        for p in plants\n",
    "    )\n",
    "    + gp.quicksum(\n",
    "        unit_cost_third_party * third_party_biomass[t, h]\n",
    "        for t in third_party_supplier\n",
    "        for h in hubs\n",
    "    ),\n",
    "    GRB.MINIMIZE,\n",
    ")"
   ]
  },
  {
   "cell_type": "markdown",
   "metadata": {},
   "source": [
    "### Constraints\n",
    "\n",
    "The demand is now $800,000,000$. We must also alter the constraint for the hub capacity and the flow balance constraint. "
   ]
  },
  {
   "cell_type": "code",
   "execution_count": 23,
   "metadata": {},
   "outputs": [],
   "source": [
    "DEMAND = 800_000_000\n",
    "\n",
    "m.addConstrs(\n",
    "    (\n",
    "        gp.quicksum(\n",
    "            biomass_s_h[s, h] * build_hub[h] for h in hubs\n",
    "        ) <= suppliers[s][\"supply\"]\n",
    "        for s in suppliers\n",
    "    ),\n",
    "    name=\"supply\",\n",
    ")\n",
    "\n",
    "m.addConstr(\n",
    "    gp.quicksum(\n",
    "        biomass_h_p[h, p] * plants[p][\"yield_per_unit\"]\n",
    "                for h in hubs \n",
    "                for p in plants\n",
    "        ) >= DEMAND,\n",
    "    name=\"demand\",\n",
    ")\n",
    "\n",
    "m.addConstrs(\n",
    "    (\n",
    "        biomass_s_h[s, h] <= num_trucks[s, h] * truck_cap_s_h[s, h]\n",
    "        for s in suppliers\n",
    "        for h in hubs\n",
    "    ),\n",
    "    name=\"trucks\",\n",
    ")\n",
    "\n",
    "m.addConstrs(\n",
    "    (\n",
    "        biomass_h_p[h, p] <= num_trains[h, p] * train_cap_h_p[h, p]\n",
    "        for h in hubs\n",
    "        for p in plants\n",
    "    ),\n",
    "    name=\"trains\",\n",
    ")\n",
    "\n",
    "m.addConstrs(\n",
    "    (\n",
    "        gp.quicksum(\n",
    "            biomass_s_h[s, h] for s in suppliers\n",
    "        ) + third_party_biomass[t, h] <= hubs[h][\"hub_cap\"] * build_hub[h]\n",
    "        for h in hubs\n",
    "        for t in third_party_supplier\n",
    "    ),\n",
    "    name=\"hub_capacity\",\n",
    ")\n",
    "\n",
    "m.addConstrs(\n",
    "    (\n",
    "        gp.quicksum(\n",
    "            biomass_h_p[h, p] for h in hubs\n",
    "        ) <= plants[p][\"plant_cap\"] * build_plant[p]\n",
    "        for p in plants\n",
    "    ),\n",
    "    name=\"plant_capacity\",\n",
    ")\n",
    "\n",
    "m.addConstrs(\n",
    "    (\n",
    "        gp.quicksum(biomass_s_h[s, h] for s in suppliers) \n",
    "        + gp.quicksum(third_party_biomass[t, h] for t in third_party_supplier)\n",
    "        == gp.quicksum(biomass_h_p[h, p] for p in plants)\n",
    "        for h in hubs\n",
    "    ),\n",
    "    name=\"balance_flow\",\n",
    ")\n",
    "\n",
    "m.setParam(\"OutputFlag\", 0)"
   ]
  },
  {
   "cell_type": "markdown",
   "metadata": {},
   "source": [
    "### Solving the Model"
   ]
  },
  {
   "cell_type": "code",
   "execution_count": 24,
   "metadata": {},
   "outputs": [],
   "source": [
    "m.optimize()"
   ]
  },
  {
   "cell_type": "code",
   "execution_count": 25,
   "metadata": {},
   "outputs": [
    {
     "name": "stdout",
     "output_type": "stream",
     "text": [
      "RESULTS\n",
      "\n",
      " (6) Plants: [9044, 9047, 9178, 9183, 9203, 10066]\n",
      "(18)   Hubs: [17201, 17218, 17359, 17447, 17507, 17592, 17679, 17792, 17829]\n",
      "\t     [17896, 17934, 17943, 18029, 18042, 18082, 18286, 18288, 18294]\n",
      "\n",
      "Total biomass sh:    1,401,295 Mg\n",
      "Total biomass hp:    3,448,276 Mg\n",
      "Total biomass third: 2,046,981 Mg\n",
      "\n",
      "Trucks needed: 2833\n",
      "Trains needed: 179\n",
      "\n",
      "Total cost: $7,139,972,964\n"
     ]
    }
   ],
   "source": [
    "plants_locations = [p for p in plants if build_plant[p].x == 1]\n",
    "hubs_locations = [h for h in hubs if build_hub[h].x == 1]\n",
    "\n",
    "total_biomass_s_h = sum(biomass_s_h[s, h].x for s in suppliers for h in hubs)\n",
    "total_biomass_h_p = sum(biomass_h_p[h, p].x for h in hubs for p in plants)\n",
    "total_biomass_third_party = sum(third_party_biomass[t, h].x for t in third_party_supplier for h in hubs)\n",
    "\n",
    "total_num_trucks = sum(num_trucks[s, h].x for s in suppliers for h in hubs)\n",
    "total_num_trains = sum(num_trains[h, p].x for h in hubs for p in plants)\n",
    "\n",
    "print(\"RESULTS\\n\")\n",
    "print(f\" ({len(plants_locations)}) Plants: {plants_locations}\")\n",
    "print(f\"({len(hubs_locations)})   Hubs: {hubs_locations[:9]}\")\n",
    "print(f\"\\t     {hubs_locations[9:]}\")\n",
    "\n",
    "print(f\"\\nTotal biomass sh:    {total_biomass_s_h:,.0f} Mg\")\n",
    "print(f\"Total biomass hp:    {total_biomass_h_p:,.0f} Mg\")\n",
    "print(f\"Total biomass third: {total_biomass_third_party:,.0f} Mg\")\n",
    "\n",
    "print(f\"\\nTrucks needed: {total_num_trucks:.0f}\")\n",
    "print(f\"Trains needed: {total_num_trains:.0f}\")\n",
    "print(f\"\\nTotal cost: ${m.objVal:,.0f}\")\n"
   ]
  },
  {
   "cell_type": "markdown",
   "metadata": {},
   "source": [
    "### Interpreting the Results\n",
    "\n",
    "As shown above, \n",
    "- there are **6 locations** at which we want to **build plants**, \n",
    "- there are **18 locations** at which we want to **build hubs**, \n",
    "- we need **2833 trucks** and **179** trains to transport **~3.448Mg** biomass and,\n",
    "- the **total cost** is **~7.14 billion** dollars"
   ]
  }
 ],
 "metadata": {
  "kernelspec": {
   "display_name": "obb",
   "language": "python",
   "name": "python3"
  },
  "language_info": {
   "codemirror_mode": {
    "name": "ipython",
    "version": 3
   },
   "file_extension": ".py",
   "mimetype": "text/x-python",
   "name": "python",
   "nbconvert_exporter": "python",
   "pygments_lexer": "ipython3",
   "version": "3.9.13"
  },
  "orig_nbformat": 4
 },
 "nbformat": 4,
 "nbformat_minor": 2
}
